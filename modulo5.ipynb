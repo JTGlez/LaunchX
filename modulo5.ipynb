{
 "cells": [
  {
   "cell_type": "markdown",
   "metadata": {},
   "source": [
    "# Operadores matemáticos\n",
    "\n",
    "Se tienen 4 operaciones básicas: +, -, *, /\n",
    "\n",
    "Consideraciones:\n",
    "\n",
    "    +Para la división se puede indicar una división con floor o piso con //. Ejemplo:\n",
    ">>seconds = 1042\n",
    "\n",
    ">>display_minutes = 1042 // 60\n",
    "\n",
    ">>print(display_minutes)\n",
    "\n",
    "    +La operación módulo (mod) se indica con %.\n",
    "\n",
    "    +Las operaciones siguen el orden PEMDAS: Paréntesis, Exponentes, Multiplicación, División, Adición y Substracción."
   ]
  },
  {
   "cell_type": "markdown",
   "metadata": {},
   "source": [
    "# Utilidades con números\n",
    "\n",
    "+Convertir cadenas en números se realiza por medio de un casting de la forma:\n",
    "\n",
    ">>demo_int = int('215')\n",
    ">>demo_float = float('215.3')\n",
    "\n",
    "+Para obtener valores absolutos en una operación se encierra la operación con abs:\n",
    "\n",
    ">>print(abs(39 - 16))\n",
    "\n",
    "+El redondeo se realiza con la función round(X):\n",
    "\n",
    ">>print(round(14.5))\n",
    "\n",
    "+La biblioteca math contiene operaciones como el redondeo hacia arriba o hacia abajo. La operación ceil redondea hacia arriba al número entero más cercano, o \n",
    "en sentido contrario con floor. \n",
    "\n",
    ">>from math import ceil, floor\n",
    "\n",
    ">>round_up = ceil(12.5)\n",
    "\n",
    ">>print(round_up)\n",
    "\n",
    "\n",
    "\n",
    ">>round_down = floor(12.5)\n",
    "\n",
    ">>print(round_down)\n"
   ]
  },
  {
   "cell_type": "code",
   "execution_count": null,
   "metadata": {},
   "outputs": [],
   "source": []
  }
 ],
 "metadata": {
  "language_info": {
   "name": "python"
  },
  "orig_nbformat": 4
 },
 "nbformat": 4,
 "nbformat_minor": 2
}
