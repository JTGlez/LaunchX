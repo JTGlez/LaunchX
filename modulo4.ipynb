{
 "cells": [
  {
   "cell_type": "markdown",
   "metadata": {},
   "source": [
    "# Inmutabilidad de cadenas\n",
    "\n",
    "Las objetos de tipo cadena no pueden cambiar, aunque Python no arroja errores cuando alteras su contenido. A continuación un par de ejemplos:"
   ]
  },
  {
   "cell_type": "code",
   "execution_count": 44,
   "metadata": {},
   "outputs": [
    {
     "name": "stdout",
     "output_type": "stream",
     "text": [
      "La luna es de queso y no se puede oir nada.\n",
      "La luna es de queso\n",
      "La luna es de queso y no se puede oir nada.\n"
     ]
    }
   ],
   "source": [
    "#Lo anterior sugiere que la variable cadena ha cambiado al sumarle otra cadena, pero no es así.\n",
    "cadena = 'La luna es de queso'\n",
    "print(cadena + ' y no se puede oir nada.')\n",
    "print(cadena)\n",
    "\n",
    "#Al sumar una cadena a una variable de tipo cadena se genera otra nueva cadena, pero esta no se guarda. Para guardarla, la suma se almacena\n",
    "#en otra variable nueva:\n",
    "cadena2 = cadena + ' y no se puede oir nada.'\n",
    "print(cadena2)\n",
    "\n"
   ]
  },
  {
   "cell_type": "markdown",
   "metadata": {},
   "source": [
    "Las cadenas pueden enmarcarse entre comillas simples, dobles o triples. Se sugiere ser consistente en seleccionar un solo estilo en un proyecto. Sin embargo, existen casos expeciales:\n",
    "\n",
    "1. Cuando una cadena contiene palabras, números o caracteres especiales (una subcadena) que también están entre comillas, se debe usar un estilo distinto para la subcadena.\n",
    "\n",
    "2. Si hay comillas simples (o un apóstrofo) en cualquier lugar dentro de la cadena, se encierra toda la cadena entre comillas dobles.\n",
    "\n",
    "3. Cuando el texto tiene una combinación de comillas simples y dobles, se pueden utilizar comillas triples para evitar problemas con el intérprete.\n",
    "\n",
    "\n",
    "Ojo: ¡El no alternar comillas simples y dobles puede provocar un error de sitaxis marcado por el intérprete de Python!"
   ]
  },
  {
   "cell_type": "code",
   "execution_count": 45,
   "metadata": {},
   "outputs": [
    {
     "name": "stdout",
     "output_type": "stream",
     "text": [
      "El \"lado oscuro\" de la luna no es visible en la Tierra.\n",
      "Superficie de la Luna en Inglés se dice Moon's surface.\n",
      "Solo vemos alrededor del 60% de la \"Moon's surface\", que es el lado oscuro de la luna.\n"
     ]
    }
   ],
   "source": [
    "cadena = 'El \"lado oscuro\" de la luna no es visible en la Tierra.'\n",
    "\n",
    "cadena2 = \"Superficie de la Luna en Inglés se dice Moon's surface.\"\n",
    "\n",
    "cadena3 = \"\"\"Solo vemos alrededor del 60% de la \"Moon's surface\", que es el lado oscuro de la luna.\"\"\"\n",
    "\n",
    "print(cadena)\n",
    "print(cadena2)\n",
    "print(cadena3)"
   ]
  },
  {
   "cell_type": "markdown",
   "metadata": {},
   "source": [
    "Un salto de línea se puede representar de las siguientes formas:\n",
    "\n",
    "* Caracter de nueva línea: \\n\n",
    "* Comillas triples: \"\"\"\n"
   ]
  },
  {
   "cell_type": "code",
   "execution_count": 46,
   "metadata": {},
   "outputs": [
    {
     "name": "stdout",
     "output_type": "stream",
     "text": [
      "Hechos sobre la luna:\n",
      " +No tiene atmósfera.\n",
      " +No es de queso.\n",
      "Hechos sobre la luna: \n",
      " +No tiene atmósfera\n",
      " +No es de queso.\n"
     ]
    }
   ],
   "source": [
    "#Saltos de línea con \\n:\n",
    "\n",
    "cadena = \"Hechos sobre la luna:\\n +No tiene atmósfera.\\n +No es de queso.\"\n",
    "print(cadena)\n",
    "\n",
    "#Saltos de línea con \"\"\":\n",
    "cadena = \"\"\"Hechos sobre la luna: \n",
    " +No tiene atmósfera\n",
    " +No es de queso.\"\"\"\n",
    "print(cadena)"
   ]
  },
  {
   "cell_type": "markdown",
   "metadata": {},
   "source": [
    "# Métodos string \n",
    "\n",
    "Los métodos para manipular cadena están pensados para extraer información de las mismas, ajustarlas a un formato o manipularlas para realizar transformaciones variadas, como por ejemplo, que a partir de la primeras 2 letras del nombre y apellidos de los empleados de una compañía se formen IDs para asignarles un correo con dominio de la empresa de forma automática.\n",
    "\n",
    "A continuación los métodos más comunes para manipular cadenas:\n",
    "\n",
    "* title(): Modifica el formato de la cadena al de un título en un texto.\n",
    "\n",
    "* split(): separa una cadena por cada espacio que encuentra, formando una lista por cada subcadena obtenida. Si se especifica un caracter\n",
    "dentro de su argumento, separará la cadena por cada vez que encuentre el argumento colocado.\n",
    "\n",
    "* find(): buscará dentro de una cadena si la subcadena especificada dentro del argumento del método existe. Si existe arrojará la posición\n",
    "donde se encuentra, y en caso contrario, arroja -1.\n",
    "\n",
    "* count(): buscará dentro de una cadena si la subcadena especificada dentro del argumento del método existe y cuántas veces se encuentra en la misma. Arroja las coincidencias de la cadena argumento dentro de la cadena sobre la que se aplicó el método.\n",
    "\n",
    "* lower(): modifica una cadena de forma que toda esté en minúsculas.\n",
    "\n",
    "* upper(): modifica una cadena de forma que toda esté en mayúsculas.\n",
    "\n",
    "* isnumeric() / isdecimal(): verifica si hay cadena que parezcan números positivos o decimales. \n",
    "\n",
    "* startswith(): Verifica si una cadena inicia con el caracter o cadena dentro del argumento del método.\n",
    "\n",
    "* endswith(): Verifica si una cadena termina con el caracter o cadena dentro del argumento del método.\n",
    "\n",
    "* replace('cadena original', 'cadena reemplazo'): sustituye en una cadena todas las subcadenas que sean iguales al primer argumento del método por la cadena especifica en el segundo argumento. \n",
    "\n",
    "* join(): recibe un iterable (como una lista de cadenas) y, realizando el proceso inverso de split(), genera una cadena completamente unida.\n",
    "\n",
    "* print(): imprime una cadena de texto.\n",
    "\n",
    "* format(): añade una cadena contenida en el parámetro del método en otra cadena, indicando con llaves {} la posición donde se desea colocar."
   ]
  },
  {
   "cell_type": "code",
   "execution_count": 12,
   "metadata": {},
   "outputs": [
    {
     "name": "stdout",
     "output_type": "stream",
     "text": [
      "Cadena original: temperaturas y hechos de la luna\n",
      "Cadena en formato de título: Temperaturas Y Hechos De La Luna\n",
      "\n",
      "Lista generada: ['En', 'la', 'mañana:', '260F', 'En', 'la', 'noche:', '-280F']\n",
      "\n",
      "Lista generada: ['En la mañana: 260F', ' En la noche: -280F ']\n",
      "\n",
      "Cadena vuelta a unir: En la mañana: 260F En la noche: -280F \n",
      "\n",
      "¿La palabra 'Luna' existe en la cadena 3? Índice de ubicación: -1\n",
      "¿La palabra 'Luna' existe en la cadena 4? Índice de ubicación: 4\n",
      "\n",
      "Veces que la palabra 'Luna' aparece en la cadena 3: 0\n",
      "Veces que la palabra 'Luna' aparece en la cadena 4: 2\n",
      "Veces que la palabra 'luna' aparece en la cadena 4: 0\n",
      "\n",
      "\n",
      "'la luna' en 'este texto se explicarán hechos sobre la luna.'\n",
      "'LA LUNA' EN 'ESTE TEXTO SE EXPLICARÁN HECHOS SOBRE LA LUNA.'\n",
      "\n",
      "\n",
      "['Temperaturas Promedio De Marte', ' -60 C']\n",
      "Temperatura:  -60 C\n",
      "Temperatura: 30\n",
      "Temperatura negativa: -30\n",
      "True\n",
      "True\n",
      "Saturno tiene una temperatura de día de -170 grados C, mientras que en Marte es de -28 C\n"
     ]
    }
   ],
   "source": [
    "#Método title()\n",
    "\n",
    "cadena = 'temperaturas y hechos de la luna'\n",
    "print(\"Cadena original:\", cadena)\n",
    "print(\"Cadena en formato de título:\", cadena.title())\n",
    "\n",
    "cadena2 = \"En la mañana: 260F\\n En la noche: -280F \"\n",
    "\n",
    "#Método split() sin argumentos\n",
    "lista_cadena = cadena2.split()\n",
    "print(\"\\nLista generada:\", lista_cadena)\n",
    "\n",
    "#Método split('\\n')\n",
    "lista_cadena = cadena2.split('\\n')\n",
    "print(\"\\nLista generada:\", lista_cadena)\n",
    " \n",
    "cadena_unida = ''.join(lista_cadena)\n",
    "#Método join('\\n')\n",
    "print(\"\\nCadena vuelta a unir:\", cadena_unida)\n",
    "\n",
    "\n",
    "#Método find()\n",
    "cadena3 = \"'Viajes' en 'este texto se explicarán hechos y retos del viaje espacial.'\"\n",
    "cadena4 = \"'La Luna' en 'este texto se explicarán hechos sobre la Luna.'\"\n",
    "\n",
    "print(\"\\n¿La palabra 'Luna' existe en la cadena 3? Índice de ubicación:\", cadena3.find('Luna'))\n",
    "print(\"¿La palabra 'Luna' existe en la cadena 4? Índice de ubicación:\", cadena4.find('Luna'))\n",
    "\n",
    "#Método count(). La búsqueda es case-sensitive.\n",
    "print(\"\\nVeces que la palabra 'Luna' aparece en la cadena 3:\", cadena3.count('Luna'))\n",
    "print(\"Veces que la palabra 'Luna' aparece en la cadena 4:\", cadena4.count('Luna'))\n",
    "print(\"Veces que la palabra 'luna' aparece en la cadena 4:\", cadena4.count('luna'))\n",
    "print('\\n')\n",
    "\n",
    "#Método lower() y upper()\n",
    "print(cadena4.lower())\n",
    "print(cadena4.upper())\n",
    "print('\\n')\n",
    "\n",
    "#Método split() y isnumeric() para comprobar datos en una cadena\n",
    "\n",
    "cadena5 = 'Temperaturas Promedio De Marte: -60 C'\n",
    "#Usa ':' como pauta para separar en subcadenas.\n",
    "cadena5_split = cadena5.split(':')\n",
    "print(cadena5_split)\n",
    "#El índice -1 devuelve el último elemento de la cadena, que se busca que sea un temperatura.\n",
    "print('Temperatura:',cadena5_split[-1])\n",
    "\n",
    "#En cadenas en formato irregular se debe iterar para hallar la temperatura.\n",
    "cadena6 = 'La más alta temperatura en Marte es cercana a los 30 C'\n",
    "\n",
    "for subcadena in cadena6.split():\n",
    "    if subcadena.isnumeric():\n",
    "        print('Temperatura:', subcadena)\n",
    "        \n",
    "#Para valores numéricos negativos se emplean validaciones distintas para revisar si hay un valor numérico presente.\n",
    "cadena7 = 'La más baja temperatura en Marte es cercana a los -30 C'\n",
    "\n",
    "#Divide la cadena en un for, y nuevamente separando -30 en [{-}, {30}], se verifica si el último miembro de la lista es un número.\n",
    "for subcadena in cadena7.split():\n",
    "    if (subcadena.split('-'))[-1].isnumeric():\n",
    "        print('Temperatura negativa:', subcadena)\n",
    "\n",
    "#Métodos startswith() y endwith()\n",
    "\n",
    "#¿La cadena6 inicia con la letra L mayúscula y termina con una C mayúscula?\n",
    "print(cadena6.startswith('L'))\n",
    "print(cadena6.endswith('C'))\n",
    "\n",
    "#Método replace()\n",
    "\n",
    "cadena8 = 'Saturno tiene una temperatura de día de -170 grados Celsius, mientras que en Marte es de -28 Celsius'\n",
    "print(cadena8.replace('Celsius', 'C'))"
   ]
  },
  {
   "cell_type": "markdown",
   "metadata": {},
   "source": [
    "# Formato de cadenas y F-Strings\n",
    "\n",
    "Se pueden dar formato a las cadenas usando variables:\n",
    "\n",
    "* Formato con %, usando como marcador %s y una variable para enviar la subcadena a añadir a la cadena objetivo.\n",
    "\n",
    "* Usando format() y llaves ({}) como el marcador de posición para reemplazar el texto. \n",
    "\n"
   ]
  },
  {
   "cell_type": "code",
   "execution_count": 30,
   "metadata": {},
   "outputs": [
    {
     "name": "stdout",
     "output_type": "stream",
     "text": [
      "En la Luna, pesarías alrededor de 1/6 de tu peso en la Tierra\n",
      "\n",
      "\n",
      "Ambos lados de la Luna reciben la misma cantidad de luz solar,\n",
      "    pero solo una cara puede ser observada desde la Tierra debido a que\n",
      "    la Luna rota alrededor de su propio eje mientras está en la órbita de la Tierra.\n",
      "\n",
      "\n",
      "En la Luna, pesarías alrededor de 1/6 de tu peso en la Tierra\n",
      "\n",
      "\n",
      "Eres más ligero en la Luna, ya que en la Luna \n",
      "... pesarías alrededor de 1/6 de tu peso en la Tierra\n",
      "Eres más ligero en la Luna, ya que en la Luna \n",
      "... pesarías alrededor de 1/6 de tu peso en la Tierra\n",
      "\n",
      "\n",
      "En la Luna, pesarías alrededor de 1/6 de tu peso en la Tierra\n",
      "En la Luna, pesarías alrededor de 16.7% de tu peso en la Tierra\n",
      "Hechos Interesantes Acerca De La Luna\n"
     ]
    }
   ],
   "source": [
    "#Formato con signo de porcentaje\n",
    "\n",
    "masa = '1/6'\n",
    "print ('En la Luna, pesarías alrededor de %s de tu peso en la Tierra' % masa)\n",
    "print('\\n')\n",
    "\n",
    "print(\"\"\"Ambos lados de la %s reciben la misma cantidad de luz solar,\n",
    "    pero solo una cara puede ser observada desde la %s debido a que\n",
    "    la %s rota alrededor de su propio eje mientras está en la órbita de la %s.\"\"\" % ('Luna', 'Tierra', 'Luna', 'Tierra'))\n",
    "print('\\n')\n",
    "\n",
    "#Formato con llaves y format()\n",
    "\n",
    "masa = '1/6'\n",
    "print ('En la Luna, pesarías alrededor de {} de tu peso en la Tierra'.format(masa))\n",
    "print('\\n')\n",
    "\n",
    "print(\"\"\"Eres más ligero en la {0}, ya que en la {0} \n",
    "... pesarías alrededor de {1} de tu peso en la Tierra\"\"\".format(\"Luna\", masa))\n",
    "\n",
    "#Este formato es más legible y específico\n",
    "print(\"\"\"Eres más ligero en la {moon}, ya que en la {moon} \n",
    "... pesarías alrededor de {mass} de tu peso en la Tierra\"\"\".format(moon=\"Luna\", mass=masa))\n",
    "print('\\n')\n",
    "\n",
    "#Las F-String funcionan como plantillas y no requiere el uso de format. Son menos explícitas (o verbosas).\n",
    "\n",
    "print(f'En la Luna, pesarías alrededor de {masa} de tu peso en la Tierra')\n",
    "print(f'En la Luna, pesarías alrededor de {round(100/6, 1)}% de tu peso en la Tierra')\n",
    "\n",
    "#Se pueden combinar F-strings y métodos para definir de forma obligatoria formatos para las cadenas de entrada\n",
    "subject = 'hechos interesantes acerca de la luna'\n",
    "print(f'{subject.title()}')\n",
    "\n",
    "\n"
   ]
  }
 ],
 "metadata": {
  "interpreter": {
   "hash": "f93175da69b3f10f997f04267fd1a84e4114b0d67bf68a284cfc44f2ff9048ab"
  },
  "kernelspec": {
   "display_name": "Python 3.10.2 64-bit (windows store)",
   "language": "python",
   "name": "python3"
  },
  "language_info": {
   "codemirror_mode": {
    "name": "ipython",
    "version": 3
   },
   "file_extension": ".py",
   "mimetype": "text/x-python",
   "name": "python",
   "nbconvert_exporter": "python",
   "pygments_lexer": "ipython3",
   "version": "3.10.2"
  },
  "orig_nbformat": 4
 },
 "nbformat": 4,
 "nbformat_minor": 2
}
