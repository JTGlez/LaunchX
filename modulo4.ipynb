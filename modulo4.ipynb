{
 "cells": [
  {
   "cell_type": "markdown",
   "metadata": {},
   "source": [
    "# Inmutabilidad de cadenas\n",
    "\n",
    "Las objetos de tipo cadena no pueden cambiar, aunque Python no arroja errores cuando alteras su contenido. A continuación un par de ejemplos:"
   ]
  },
  {
   "cell_type": "code",
   "execution_count": 6,
   "metadata": {},
   "outputs": [
    {
     "name": "stdout",
     "output_type": "stream",
     "text": [
      "La luna es de queso y no se puede oir nada.\n",
      "La luna es de queso\n",
      "La luna es de queso y no se puede oir nada.\n"
     ]
    }
   ],
   "source": [
    "#Lo anterior sugiere que la variable cadena ha cambiado al sumarle otra cadena, pero no es así.\n",
    "cadena = 'La luna es de queso'\n",
    "print(cadena + ' y no se puede oir nada.')\n",
    "print(cadena)\n",
    "\n",
    "#Al sumar una cadena a una variable de tipo cadena se genera otra nueva cadena, pero esta no se guarda. Para guardarla, la suma se almacena\n",
    "#en otra variable nueva:\n",
    "cadena2 = cadena + ' y no se puede oir nada.'\n",
    "print(cadena2)\n",
    "\n"
   ]
  },
  {
   "cell_type": "markdown",
   "metadata": {},
   "source": [
    "Las cadenas pueden enmarcarse entre comillas simples, dobles o triples. Se sugiere ser consistente en seleccionar un solo estilo en un proyecto. Sin embargo, existen casos expeciales:\n",
    "\n",
    "1. Cuando una cadena contiene palabras, números o caracteres especiales (una subcadena) que también están entre comillas, se debe usar un estilo distinto para la subcadena.\n",
    "\n",
    "2. Si hay comillas simples (o un apóstrofo) en cualquier lugar dentro de la cadena, se encierra toda la cadena entre comillas dobles.\n",
    "\n",
    "3. Cuando el texto tiene una combinación de comillas simples y dobles, se pueden utilizar comillas triples para evitar problemas con el intérprete.\n",
    "\n",
    "\n",
    "Ojo: ¡El no alternar comillas simples y dobles puede provocar un error de sitaxis marcado por el intérprete de Python!"
   ]
  },
  {
   "cell_type": "code",
   "execution_count": 11,
   "metadata": {},
   "outputs": [
    {
     "name": "stdout",
     "output_type": "stream",
     "text": [
      "El \"lado oscuro\" de la luna no es visible en la Tierra.\n",
      "Superficie de la Luna en Inglés se dice Moon's surface.\n",
      "Solo vemos alrededor del 60% de la \"Moon's surface\", que es el lado oscuro de la luna.\n"
     ]
    }
   ],
   "source": [
    "cadena = 'El \"lado oscuro\" de la luna no es visible en la Tierra.'\n",
    "\n",
    "cadena2 = \"Superficie de la Luna en Inglés se dice Moon's surface.\"\n",
    "\n",
    "cadena3 = \"\"\"Solo vemos alrededor del 60% de la \"Moon's surface\", que es el lado oscuro de la luna.\"\"\"\n",
    "\n",
    "print(cadena)\n",
    "print(cadena2)\n",
    "print(cadena3)"
   ]
  },
  {
   "cell_type": "markdown",
   "metadata": {},
   "source": [
    "Un salto de línea se puede representar de las siguientes formas:\n",
    "\n",
    "* Caracter de nueva línea: \\n\n",
    "* Comillas triples: \"\"\"\n"
   ]
  },
  {
   "cell_type": "code",
   "execution_count": 18,
   "metadata": {},
   "outputs": [
    {
     "name": "stdout",
     "output_type": "stream",
     "text": [
      "Hechos sobre la luna:\n",
      " +No tiene atmósfera.\n",
      " +No es de queso.\n",
      "Hechos sobre la luna: \n",
      " +No tiene atmósfera\n",
      " +No es de queso.\n"
     ]
    }
   ],
   "source": [
    "#Saltos de línea con \\n:\n",
    "\n",
    "cadena = \"Hechos sobre la luna:\\n +No tiene atmósfera.\\n +No es de queso.\"\n",
    "print(cadena)\n",
    "\n",
    "#Saltos de línea con \"\"\":\n",
    "cadena = \"\"\"Hechos sobre la luna: \n",
    " +No tiene atmósfera\n",
    " +No es de queso.\"\"\"\n",
    "print(cadena)"
   ]
  },
  {
   "cell_type": "markdown",
   "metadata": {},
   "source": [
    "# Métodos string \n",
    "\n",
    "Los métodos para manipular cadena están pensados para extraer información de las mismas, ajustarlas a un formato o manipularlas para realizar transformaciones variadas, como por ejemplo, que a partir de la primeras 2 letras del nombre y apellidos de los empleados de una compañía se formen IDs para asignarles un correo con dominio de la empresa de forma automática.\n",
    "\n",
    "A continuación los métodos más comunes para manipular cadenas:\n",
    "\n",
    "* title(): Modifica el formato de la cadena al de un título en un texto.\n",
    "\n",
    "* split(): separa una cadena por cada espacio que encuentra, formando una lista por cada subcadena obtenida. Si se especifica un caracter\n",
    "dentro de su argumento, separará la cadena por cada vez que encuentre el argumento colocado.\n",
    "\n",
    "* find(): buscará dentro de una cadena si la subcadena especificada dentro del argumento del método existe. Si existe arrojará la posición\n",
    "donde se encuentra, y en caso contrario, arroja -1.\n",
    "\n",
    "* find(): buscará dentro de una cadena si la subcadena especificada dentro del argumento del método existe y cuántas veces se encuentra en la misma. Arroja las coincidencias de la cadena argumento dentro de la cadena sobre la que se aplicó el método.\n",
    "\n",
    "* lower(): modifica una cadena de forma que toda esté en minúsculas.\n",
    "\n",
    "* upper(): modifica una cadena de forma que toda esté en mayúsculas.\n",
    "\n",
    "* isnumeric() / isdecimal(): verifica si hay cadena que parezcan números positivos o decimales. \n",
    "\n",
    "* startswith(): Verifica si una cadena inicia con el caracter o cadena dentro del argumento del método.\n",
    "\n",
    "* endswith(): Verifica si una cadena termina con el caracter o cadena dentro del argumento del método.\n",
    "\n",
    "* replace('cadena original', 'cadena reemplazo'): sustituye en una cadena todas las subcadenas que sean iguales al primer argumento del método por la cadena especifica en el segundo argumento. \n",
    "\n",
    "* join(): recibe un iterable (como una lista de cadenas) y, realizando el proceso inverso de split(), genera una cadena completamente unida."
   ]
  }
 ],
 "metadata": {
  "interpreter": {
   "hash": "f93175da69b3f10f997f04267fd1a84e4114b0d67bf68a284cfc44f2ff9048ab"
  },
  "kernelspec": {
   "display_name": "Python 3.10.2 64-bit (windows store)",
   "language": "python",
   "name": "python3"
  },
  "language_info": {
   "codemirror_mode": {
    "name": "ipython",
    "version": 3
   },
   "file_extension": ".py",
   "mimetype": "text/x-python",
   "name": "python",
   "nbconvert_exporter": "python",
   "pygments_lexer": "ipython3",
   "version": "3.10.2"
  },
  "orig_nbformat": 4
 },
 "nbformat": 4,
 "nbformat_minor": 2
}
