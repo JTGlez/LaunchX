{
 "cells": [
  {
   "cell_type": "markdown",
   "metadata": {},
   "source": [
    "# Ciclo While\n",
    "\n",
    "Se emplea cuando no se sabe con certeza cuando un bucle acabará. Permite indicar que, mientras una condición lógica arroje un valor TRUE, se ejecute el código dentro del mismo. Estructura:\n",
    "\n",
    "    >>while condition:\n",
    "        >>código del bucle\n",
    "\n",
    "NOTA: Python no implemento ciclos do."
   ]
  },
  {
   "cell_type": "code",
   "execution_count": 2,
   "metadata": {},
   "outputs": [
    {
     "name": "stdout",
     "output_type": "stream",
     "text": [
      "Escribiste: si\n",
      "Escribiste: Hola\n",
      "Escribiste: Hola Mundo\n",
      "Escribiste: Mi primer programa XD\n",
      "Escribiste: Holaaa\n",
      "Escribiste: ok\n"
     ]
    }
   ],
   "source": [
    "# Ejemplo de ciclo While donde el bucle se ejecutará hasta que el usuario escriba OK:\n",
    "\n",
    "user_input = ''\n",
    "\n",
    "while user_input.lower() != 'ok':\n",
    "    user_input = input(\"Escribe cualquier cosa, o 'ok' cuando todo esté ok.\")\n",
    "    print('Escribiste:', user_input)"
   ]
  },
  {
   "cell_type": "code",
   "execution_count": 4,
   "metadata": {},
   "outputs": [
    {
     "name": "stdout",
     "output_type": "stream",
     "text": [
      "Escribiste: Hola\n",
      "Entradas escritas: ['Hola']\n",
      "Escribiste: Si\n",
      "Entradas escritas: ['Hola', 'Si']\n",
      "Escribiste: XD\n",
      "Entradas escritas: ['Hola', 'Si', 'XD']\n"
     ]
    }
   ],
   "source": [
    "# Ejemplo de ciclo while donde se almacenan los inputs del usuario en una lista:\n",
    "\n",
    "# Variable de texto y lista que almacena las entradas del usuario\n",
    "user_input = ''\n",
    "inputs = []\n",
    "\n",
    "# Ciclo while que ingresa valores en la lista hasta que el usuario escriba 'ok'. Nótese que la condición de ruptura se verifica al inicio, pero el input se pide hasta al final. \n",
    "\n",
    "while user_input.lower() != 'ok':\n",
    "    if user_input !='':\n",
    "        print('Escribiste:', user_input)\n",
    "        inputs.append(user_input)\n",
    "        print('Entradas escritas:', inputs)\n",
    "    user_input = input(\"Escribe cualquier cosa, o 'ok' cuando todo esté ok.\")\n"
   ]
  },
  {
   "cell_type": "code",
   "execution_count": 14,
   "metadata": {},
   "outputs": [
    {
     "name": "stdout",
     "output_type": "stream",
     "text": [
      "El planeta número 1 es Mercurio\n",
      "El planeta número 2 es Venus\n",
      "El planeta número 3 es La Tierra\n",
      "El planeta número 4 es Marte\n",
      "El planeta número 5 es Júpiter\n",
      "El planeta número 6 es Saturno\n",
      "El planeta número 7 es Urano\n",
      "El planeta número 8 es Neptuno\n"
     ]
    }
   ],
   "source": [
    "# Ciclo while para recorrer una lista:\n",
    "\n",
    "planets = [\"Mercurio\", \"Venus\", \"La Tierra\", \"Marte\", \"Júpiter\", \"Saturno\", \"Urano\", \"Neptuno\"]\n",
    "\n",
    "contador = 0\n",
    "\n",
    "while contador!=8:\n",
    "    print('El planeta número',contador+1, 'es', planets[contador])\n",
    "    contador+=1"
   ]
  },
  {
   "cell_type": "markdown",
   "metadata": {},
   "source": []
  },
  {
   "cell_type": "markdown",
   "metadata": {},
   "source": [
    "# Ciclos for con listas\n",
    "\n",
    "+Las listas, independientemente de los valores que almacenen, pueden iterarse por medio de un ciclo for. Python tiene muchos tipos que se pueden recorrer en ciclo. Estos tipos se conocen como iterables.\n",
    "\n",
    "    >>for variable in iterable:\n",
    "        >>código del bucle\n",
    "\n"
   ]
  },
  {
   "cell_type": "code",
   "execution_count": 5,
   "metadata": {},
   "outputs": [
    {
     "name": "stdout",
     "output_type": "stream",
     "text": [
      "4\n",
      "3\n",
      "2\n",
      "1\n",
      "0\n",
      "¡Despegue!\n"
     ]
    }
   ],
   "source": [
    "# Cuenta atrás con un ciclo for y una lista de números:\n",
    "\n",
    "cuenta = [4, 3, 2, 1, 0]\n",
    "for numero in cuenta:\n",
    "    print(numero)\n",
    "print('¡Despegue!')"
   ]
  },
  {
   "cell_type": "code",
   "execution_count": 6,
   "metadata": {},
   "outputs": [
    {
     "name": "stdout",
     "output_type": "stream",
     "text": [
      "4\n",
      "3\n",
      "2\n",
      "1\n",
      "0\n",
      "¡Despegue!\n"
     ]
    }
   ],
   "source": [
    "# Cuenta atrás modificada que emplea la función sleep() para poner un tiempo de espera entre cada iteración del bucle:\n",
    "\n",
    "from time import sleep\n",
    "cuenta = [4, 3, 2, 1, 0]\n",
    "\n",
    "for numero in cuenta:\n",
    "    print(numero)\n",
    "    sleep(1)\n",
    "print('¡Despegue!')"
   ]
  }
 ],
 "metadata": {
  "interpreter": {
   "hash": "f93175da69b3f10f997f04267fd1a84e4114b0d67bf68a284cfc44f2ff9048ab"
  },
  "kernelspec": {
   "display_name": "Python 3.10.2 64-bit (windows store)",
   "language": "python",
   "name": "python3"
  },
  "language_info": {
   "codemirror_mode": {
    "name": "ipython",
    "version": 3
   },
   "file_extension": ".py",
   "mimetype": "text/x-python",
   "name": "python",
   "nbconvert_exporter": "python",
   "pygments_lexer": "ipython3",
   "version": "3.10.2"
  },
  "orig_nbformat": 4
 },
 "nbformat": 4,
 "nbformat_minor": 2
}
