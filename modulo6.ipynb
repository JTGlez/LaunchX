{
 "cells": [
  {
   "cell_type": "markdown",
   "metadata": {},
   "source": [
    "# Creación de listas\n",
    "\n",
    "Para crear una lista, asigne una secuencia de valores a una variable. Cada valor está separado por una coma y rodeado por corchetes ([]). En el ejemplo siguiente se almacena la lista de todos los planetas de la variable planets:\n",
    "\n"
   ]
  },
  {
   "cell_type": "code",
   "execution_count": 4,
   "metadata": {},
   "outputs": [],
   "source": [
    "planets = ['Mercurio', 'Venus', 'Tierra', 'Marte', 'Jupiter', 'Saturno', 'Urano', 'Neptuno']"
   ]
  },
  {
   "cell_type": "markdown",
   "metadata": {},
   "source": [
    "# Acceder a elementos de lista por índice\n",
    "\n",
    "Puedes acceder a cualquier elemento de una lista poniendo el index/índice entre [] después del nombre de la variable de lista. Los índices comienzan desde 0, por lo que en el siguiente código planets[0], es el primer elemento de la lista planets:\n"
   ]
  },
  {
   "cell_type": "code",
   "execution_count": 10,
   "metadata": {},
   "outputs": [
    {
     "name": "stdout",
     "output_type": "stream",
     "text": [
      "El primer planeta es Mercurio\n",
      "El segundo planeta es Venus\n",
      "El tercer planeta es la Tierra\n",
      "\n",
      "A Marte también se le conoce como el Planeta Rojo\n",
      "\n",
      "Hay 8 planetas en el sistema solar.\n"
     ]
    }
   ],
   "source": [
    "planets = ['Mercurio', 'Venus', 'Tierra', 'Marte', 'Jupiter', 'Saturno', 'Urano', 'Neptuno']\n",
    "\n",
    "# Acceder a elementos de lista por índice: Los índices de la lista inician desde el número 0.\n",
    "print('El primer planeta es', planets[0])\n",
    "print('El segundo planeta es', planets[1])\n",
    "print('El tercer planeta es la', planets[2])\n",
    "\n",
    "# Se puede acceder a los índices y modificar su contenido como si fuesen variables:\n",
    "\n",
    "planets[3]='Planeta Rojo'\n",
    "print('\\nA Marte también se le conoce como el', planets[3])\n",
    "\n",
    "#Determinar la longitud de una lista: usar la función len para obtener su longitud numérica.\n",
    "\n",
    "num_planetas = len(planets)\n",
    "print('\\nHay',num_planetas,'planetas en el sistema solar.')"
   ]
  },
  {
   "cell_type": "markdown",
   "metadata": {},
   "source": [
    "# Agregar valores la lista\n",
    "\n",
    "Las listas en Python son dinámicas: Es decir, puedes agregar y eliminar elementos después de crearlos. Para agregar un elemento a una lista, utilice el método .append(value). Puedes eliminar el último elemento de una lista llamando al método .pop() de la variable de lista:\n",
    "\n",
    "\n",
    "\n"
   ]
  },
  {
   "cell_type": "code",
   "execution_count": 13,
   "metadata": {},
   "outputs": [
    {
     "name": "stdout",
     "output_type": "stream",
     "text": [
      "\n",
      "Hay 9 planetas en el sistema solar.\n",
      "\n",
      "No, definitivamente hay 8 planetas en el sistema solar.\n"
     ]
    }
   ],
   "source": [
    "planets = ['Mercurio', 'Venus', 'Tierra', 'Marte', 'Jupiter', 'Saturno', 'Urano', 'Neptuno']\n",
    "\n",
    "#Añadiendo un nuevo elemento a la lista planets:\n",
    "planets.append('Plutón')\n",
    "num_planetas = len(planets)\n",
    "print('\\nHay',num_planetas,'planetas en el sistema solar.')\n",
    "\n",
    "#Eliminando el último elemento de la lista planets:\n",
    "planets.pop() #Adiós, Plutón\n",
    "num_planetas = len(planets)\n",
    "print('\\nNo, definitivamente hay',num_planetas,'planetas en el sistema solar.')"
   ]
  },
  {
   "cell_type": "markdown",
   "metadata": {},
   "source": [
    "# Índices negativos y búsqueda de valores en una lista\n",
    "\n",
    "Los índices negativos comienzan al final de una lista y retornan hacia atrás. Por ejemplo, el índice [-1] devuelve el último elemento de una lista, [-2] el penúltimo y así sucesivamente. \n",
    "\n",
    "Para buscar un valor, el método index() permite buscar un valor dentro de una lista. Si encuentra el valor, devolverá el índice donde se encuentra en la lista, y en caso contrario, devolverá un -1."
   ]
  },
  {
   "cell_type": "code",
   "execution_count": 17,
   "metadata": {},
   "outputs": [
    {
     "name": "stdout",
     "output_type": "stream",
     "text": [
      "El último planeta del sistema solar es Neptuno\n",
      "El penúltimo planeta del sistema solar es Urano\n",
      "Júpiter es el 5 planeta que orbita el sol.\n"
     ]
    },
    {
     "ename": "ValueError",
     "evalue": "'Plutón' is not in list",
     "output_type": "error",
     "traceback": [
      "\u001b[1;31m---------------------------------------------------------------------------\u001b[0m",
      "\u001b[1;31mValueError\u001b[0m                                Traceback (most recent call last)",
      "\u001b[1;32mc:\\Users\\Jorge\\Documents\\LaunchX\\modulo6.ipynb Cell 8'\u001b[0m in \u001b[0;36m<module>\u001b[1;34m\u001b[0m\n\u001b[0;32m      <a href='vscode-notebook-cell:/c%3A/Users/Jorge/Documents/LaunchX/modulo6.ipynb#ch0000007?line=7'>8</a>\u001b[0m jupiter_index \u001b[39m=\u001b[39m planets\u001b[39m.\u001b[39mindex(\u001b[39m'\u001b[39m\u001b[39mJupiter\u001b[39m\u001b[39m'\u001b[39m)\n\u001b[0;32m      <a href='vscode-notebook-cell:/c%3A/Users/Jorge/Documents/LaunchX/modulo6.ipynb#ch0000007?line=8'>9</a>\u001b[0m \u001b[39mprint\u001b[39m(\u001b[39m'\u001b[39m\u001b[39mJúpiter es el\u001b[39m\u001b[39m'\u001b[39m, jupiter_index \u001b[39m+\u001b[39m \u001b[39m1\u001b[39m, \u001b[39m'\u001b[39m\u001b[39mplaneta que orbita el sol.\u001b[39m\u001b[39m'\u001b[39m)\n\u001b[1;32m---> <a href='vscode-notebook-cell:/c%3A/Users/Jorge/Documents/LaunchX/modulo6.ipynb#ch0000007?line=10'>11</a>\u001b[0m pluton_index \u001b[39m=\u001b[39m planets\u001b[39m.\u001b[39;49mindex(\u001b[39m'\u001b[39;49m\u001b[39mPlutón\u001b[39;49m\u001b[39m'\u001b[39;49m)\n",
      "\u001b[1;31mValueError\u001b[0m: 'Plutón' is not in list"
     ]
    }
   ],
   "source": [
    "planets = ['Mercurio', 'Venus', 'Tierra', 'Marte', 'Jupiter', 'Saturno', 'Urano', 'Neptuno']\n",
    "\n",
    "# Imprimiendo el último elemento de la lista:\n",
    "print('El último planeta del sistema solar es', planets[-1])\n",
    "print('El penúltimo planeta del sistema solar es', planets[-2])\n",
    "\n",
    "# Buscando la posición de Júpiter en la lista. Se usa para indicar su lugar en el mundo real sumando +1 (ya que las listas inician en 0):\n",
    "jupiter_index = planets.index('Jupiter')\n",
    "print('Júpiter es el', jupiter_index + 1, 'planeta que orbita el sol.')\n",
    "\n",
    "# No encuentra a Plutón y arroja una excepción.\n",
    "pluton_index = planets.index('Plutón')"
   ]
  },
  {
   "cell_type": "markdown",
   "metadata": {},
   "source": [
    "# Trabajar con números en listas\n",
    "\n",
    "En el siguiente ejemplo, puedes calcular el peso de un bus de dos pisos en diferentes planetas obteniendo el valor de la lista:\n",
    "\n"
   ]
  },
  {
   "cell_type": "code",
   "execution_count": 30,
   "metadata": {},
   "outputs": [
    {
     "name": "stdout",
     "output_type": "stream",
     "text": [
      "En la Tierra un autobús de doble piso pesa 12650 [Kg]\n",
      "En Mercurio un autobús de doble piso pesa 4781.7 [Kg]\n"
     ]
    }
   ],
   "source": [
    "# Valores de gravedades de tipo float:\n",
    "gravity_on_earth = 1.0\n",
    "gravity_on_the_moon = 0.166\n",
    "\n",
    "# Creación de una lista con gravedades de planetas (siguiendo el orden la lista de planetas), con valores de tipo flotante:\n",
    "gravity_on_planets = [0.378, 0.907, 1, 0.379, 2.36, 0.916, 0.889, 1.12]\n",
    "planets = ['Mercurio', 'Venus', 'Tierra', 'Marte', 'Jupiter', 'Saturno', 'Urano', 'Neptuno']\n",
    "\n",
    "#Calculando el peso de un bus de dos pisos en distintos planetas usando los valores de la lista:\n",
    "peso_bus = 12650 #[Kg] en la Tierra.\n",
    "print('En la', planets[2], 'un autobús de doble piso pesa', peso_bus, '[Kg]')\n",
    "print('En', planets[0], 'un autobús de doble piso pesa', peso_bus *gravity_on_planets[0], '[Kg]')\n",
    "\n",
    "\n"
   ]
  },
  {
   "cell_type": "markdown",
   "metadata": {},
   "source": [
    "# min() y max () con listas\n",
    "\n",
    "Python tiene funciones integradas para calcular los números más grandes y más pequeños de una lista. La función max() devuelve el número más grande y la función min() devuelve el más pequeño. Así que min(gravity_on_planets)devuelve el número más pequeño de la lista, gravity_on_planets que es 0.378 (Mercurio).\n"
   ]
  },
  {
   "cell_type": "code",
   "execution_count": 31,
   "metadata": {},
   "outputs": [
    {
     "name": "stdout",
     "output_type": "stream",
     "text": [
      "En la Tierra  un autobús de doble piso pesa 12650 kg\n",
      "Lo más ligero que un autobús puede ser en el sistema solar es 4781.7 [Kg]\n",
      "Lo más pesado que un autobús puede ser en el sistema solar es 29854.0 [Kg]\n"
     ]
    }
   ],
   "source": [
    "# Cálculo de los pesos mínimos y máximos del sistema solar:\n",
    "\n",
    "peso_bus = 12650\n",
    "\n",
    "print('En la', planets[2] ,' un autobús de doble piso pesa', peso_bus, 'kg')\n",
    "print('Lo más ligero que un autobús puede ser en el sistema solar es', peso_bus * min(gravity_on_planets), '[Kg]')\n",
    "print('Lo más pesado que un autobús puede ser en el sistema solar es', peso_bus * max(gravity_on_planets), '[Kg]')"
   ]
  },
  {
   "cell_type": "markdown",
   "metadata": {},
   "source": [
    "# Manipulación de datos en una lista\n",
    "\n",
    "Python proporciona un soporte sólido para trabajar con los datos en las listas. Este soporte incluye el slicing (examinando solo una parte) y el sorting.\n",
    "\n",
    "    +Slice list: Puedes recuperar una parte de una lista mediante un slice. Slice utiliza corchetes, pero en lugar de un solo elemento, tiene los índices inicial y final de los elementos que queremos recuperar. Cuando se utiliza slice, se crea una nueva lista que comienza en el índice inicial y que termina antes (y no incluye) el índice final.\n",
    "\n",
    "    +Unir listas: Para unir dos listas, utilice el operador (+) con dos listas para devolver una nueva lista.\n",
    "\n",
    "    +Ordenar listas: Para ordenar una lista, utilizamos el método sort() de la lista. Python ordenará una lista de cadenas en orden alfabético y una lista de números en orden numérico. Para ordenar una lista en forma inversa, llamamos al método .sort(reverse=True) de la lista. Al usar el método .sort se modifica la lista actual."
   ]
  },
  {
   "cell_type": "code",
   "execution_count": 36,
   "metadata": {},
   "outputs": [
    {
     "name": "stdout",
     "output_type": "stream",
     "text": [
      "['Mercurio', 'Venus']\n",
      "['Marte', 'Jupiter', 'Saturno', 'Urano', 'Neptuno']\n",
      "['Marte', 'Jupiter', 'Saturno', 'Urano', 'Neptuno', 'Plutón']\n"
     ]
    }
   ],
   "source": [
    "planets = ['Mercurio', 'Venus', 'Tierra', 'Marte', 'Jupiter', 'Saturno', 'Urano', 'Neptuno', 'Plutón']\n",
    "planets_before_earth = planets[0:2]\n",
    "# La lista generada solo incluye Mercurio y Venus, es decir, 0:2 solo incluye los primeros 2 elementos.\n",
    "print(planets_before_earth)\n",
    "\n",
    "# Para obtener aquellos que van después de la Tierra el slice se realiza de 3:8, es decir, desde Marte hasta Neptuno.\n",
    "planets_after_earth = planets[3:8]\n",
    "print(planets_after_earth) \n",
    "\n",
    "# En este ejemplo, se muestra Neptuno. La razón es que el índice para Neptuno es 7, porque la indexación comienza en 0. \n",
    "# Debido a que el índice final era 8, incluye el último valor. Si no coloca el índice de detención en el slice, Python asume que deseas ir al final de la lista:\n",
    "\n",
    "planets_after_earth = planets[3:]\n",
    "print(planets_after_earth)\n",
    "\n"
   ]
  },
  {
   "cell_type": "code",
   "execution_count": 38,
   "metadata": {},
   "outputs": [
    {
     "name": "stdout",
     "output_type": "stream",
     "text": [
      "Las lunas satelitales regulares de Júpiter son ['Metis', 'Adrastea', 'Amalthea', 'Thebe', 'Io', 'Europa', 'Ganímedes', 'Callisto']\n",
      "Las lunas satelitales regulares de Júpiter son ['Adrastea', 'Amalthea', 'Callisto', 'Europa', 'Ganímedes', 'Io', 'Metis', 'Thebe']\n",
      "Las lunas satelitales regulares de Júpiter son ['Thebe', 'Metis', 'Io', 'Ganímedes', 'Europa', 'Callisto', 'Amalthea', 'Adrastea']\n"
     ]
    }
   ],
   "source": [
    "# Unión de los elementos de dos listas distintas:\n",
    "amalthea_group = ['Metis', 'Adrastea', 'Amalthea', 'Thebe']\n",
    "galilean_moons = ['Io', 'Europa', 'Ganímedes', 'Callisto']\n",
    "\n",
    "regular_satellite_moons = amalthea_group + galilean_moons\n",
    "print('Las lunas satelitales regulares de Júpiter son', regular_satellite_moons)\n",
    "\n",
    "# Ordenamiento de listas con sort():\n",
    "regular_satellite_moons.sort()\n",
    "print(\"Las lunas satelitales regulares de Júpiter son\", regular_satellite_moons)\n",
    "\n",
    "# Ordenamiento inverso:\n",
    "regular_satellite_moons.sort(reverse=True)\n",
    "print(\"Las lunas satelitales regulares de Júpiter son\", regular_satellite_moons)\n"
   ]
  }
 ],
 "metadata": {
  "interpreter": {
   "hash": "f93175da69b3f10f997f04267fd1a84e4114b0d67bf68a284cfc44f2ff9048ab"
  },
  "kernelspec": {
   "display_name": "Python 3.10.2 64-bit (windows store)",
   "language": "python",
   "name": "python3"
  },
  "language_info": {
   "codemirror_mode": {
    "name": "ipython",
    "version": 3
   },
   "file_extension": ".py",
   "mimetype": "text/x-python",
   "name": "python",
   "nbconvert_exporter": "python",
   "pygments_lexer": "ipython3",
   "version": "3.10.2"
  },
  "orig_nbformat": 4
 },
 "nbformat": 4,
 "nbformat_minor": 2
}
