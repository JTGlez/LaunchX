{
 "cells": [
  {
   "cell_type": "markdown",
   "metadata": {},
   "source": [
    "# Lógica Booleana\n",
    "\n",
    "Las sentencias condicionales representan instrucciones que pueden ejecutarse o no en función de una condición especificada. Las declaraciones lógicas \"if\" se utilizan para\n",
    "representar ideas como las siguientes:\n",
    "\n",
    "Si \"x\" se cumple, entonces ejecuta \"y\"\n",
    "    ->\"y: instrucciones a ejecutar\"\n",
    "\n",
    "si \"x:true\" entonces\n",
    "    ejecuta \"y\"\n",
    "\n",
    "Python admite operadores lógicos comunes usados en matemáticas, como los siguientes:\n",
    "\n",
    "\n",
    "*Igualdad               a == b \"a es igual a b\"\n",
    "\n",
    "*Diferente de           a != b \"a es distinto de b\"\n",
    "\n",
    "*Menor que              a <  b \"a es menor que b\"  \n",
    "\n",
    "*Menor o igual que      a <= b \"a es menor o igual que b\"\n",
    "\n",
    "*Mayor que              a >  b \"a es mayor que b\"\n",
    "\n",
    "*Mayor o igual que      a >= b \"a es mayor o igual que b\"\n"
   ]
  },
  {
   "cell_type": "markdown",
   "metadata": {},
   "source": [
    "# Expresiones de prueba"
   ]
  },
  {
   "cell_type": "code",
   "execution_count": 8,
   "metadata": {},
   "outputs": [
    {
     "name": "stdout",
     "output_type": "stream",
     "text": [
      "15 es mayor que 12\n",
      "93\n",
      "Esta línea imprime incondicionalmente el valor de b: 44\n"
     ]
    }
   ],
   "source": [
    "# Programa que evalúa el valor de verdad de la sentencia a < b, y si es cierta (arroja un valor booleano TRUE), imprime el valor de b.\n",
    "a = 12\n",
    "b = 15\n",
    "\n",
    "#Sentencia condicional:\n",
    "if a < b:\n",
    "    print (b, \"es mayor que\", a)\n",
    "    \n",
    "#En este caso, a es mayor que b, y se imprimirá el valor de a.\n",
    "a = 93\n",
    "b = 27\n",
    "\n",
    "if a >= b:\n",
    "    print(a)\n",
    "    \n",
    "\n",
    "#La indentación en Python sustituye el papel de las llaves en otros lenguajes. Por este medio se determinan qué instrucciones\n",
    "#pertencen a un bloque de código específico.\n",
    "\n",
    "a = 24\n",
    "b = 44\n",
    "\n",
    "#Si a es menor o igual a 0, imprime a. Como es FALSE, no imprime nada. Aún así, al final imprimirá a b incondicionalmente al no estar \n",
    "#indentada la línea de código que imprime b. Lo que provoca esto es que print(b) no se considere parte del \"if\" y de las intrucciones\n",
    "#que se ejecutan en caso de cumplirse la condición especificada.\n",
    "\n",
    "if a <= 0:\n",
    "    print(a)\n",
    "print(\"Esta línea imprime incondicionalmente el valor de b:\", b)"
   ]
  },
  {
   "cell_type": "markdown",
   "metadata": {},
   "source": [
    "# Declaraciones else\n",
    "\n",
    "Sea \"x\" una condición o sentencia lógica, y \"z\", \"y\" bloques de instrucciones cualquiera, \n",
    "la sentencia else sirve para indicar una condición lógica compuesta de la forma:\n",
    "\n",
    "si \"x : true\" entonces\n",
    "\n",
    "    ->\"ejecutar: y\"\n",
    "\n",
    "en caso contrario, entonces\n",
    "\n",
    "    ->\"ejecutar: z\"\n",
    "\n",
    "Es decir, si la sentencia lógica \"x\" es verdadera, se ejecuta el bloque de instrucciones \"y\". En cambio, si \"x\" es falsa, entonces, se ejecuta el bloque de instrucciones \"z\"."
   ]
  },
  {
   "cell_type": "code",
   "execution_count": 9,
   "metadata": {},
   "outputs": [
    {
     "name": "stdout",
     "output_type": "stream",
     "text": [
      "El valor  93 es mayor o igual que 27\n"
     ]
    }
   ],
   "source": [
    "#Modificando el ejemplo anterior, si a es mayor o igual que b, entonces imprime a, y en caso contrario, imprime b.\n",
    "\n",
    "a = 93\n",
    "b = 27\n",
    "\n",
    "if a >= b:\n",
    "    print(\"El valor \", a, \"es mayor o igual que\", b)\n",
    "else:\n",
    "    print(\"El valor \", a, \" NO es mayor o igual que\", b)"
   ]
  },
  {
   "cell_type": "code",
   "execution_count": 18,
   "metadata": {},
   "outputs": [
    {
     "name": "stdout",
     "output_type": "stream",
     "text": [
      "El valor 5 es mayor o igual que 5\n"
     ]
    }
   ],
   "source": [
    "#Agreguemos al ejemplo un input para recibir los números del usuario:\n",
    "\n",
    "a = input(\"Escribe el valor de a: \")\n",
    "b = input(\"Escribe el valor de b: \")\n",
    "\n",
    "if  a >= b:\n",
    "    print(\"El valor\", a, \"es mayor o igual que\", b)\n",
    "else:\n",
    "    print(\"El valor\", a, \"NO es mayor o igual que\", b)"
   ]
  },
  {
   "cell_type": "markdown",
   "metadata": {},
   "source": [
    "# Declaraciones elif\n",
    "\n",
    "La sentencia elif (else if), permite escribir múltiples condiciones o sentencias de prueba que, en caso de que una de ellas se cumpla, \n",
    "se ejecute un bloque de instrucciones especificado. \n",
    "\n",
    "Sea \"x\", \"w\" una condición o sentencia lógica, y \"z\", \"y\" bloques de instrucciones cualquiera, \n",
    "la sentencia elif presenta la siguiente estructura:\n",
    "\n",
    "si \"x : true\" entonces\n",
    "\n",
    "    ->\"ejecutar: y\"\n",
    "\n",
    "en caso contrario, si \"w: true\" entonces\n",
    "\n",
    "    ->\"ejecutar: z\""
   ]
  },
  {
   "cell_type": "code",
   "execution_count": 26,
   "metadata": {},
   "outputs": [
    {
     "name": "stdout",
     "output_type": "stream",
     "text": [
      "El valor 5 es mayor que 2\n"
     ]
    }
   ],
   "source": [
    "# Ejemplo anterior usando elif. Si la primer condición se cumple, ejecutará el primer bloque de código. En caso contrario, verificará\n",
    "# si el valor de verdad de la segunda condición lógica especificada por el elif tiene valor TRUE. Si es verdadera, entonces\n",
    "# ejecutará el segundo bloque de código.\n",
    "\n",
    "a = input(\"Escribe el valor de a: \")\n",
    "b = input(\"Escribe el valor de b: \")\n",
    "\n",
    "if a > b:\n",
    "    print(\"El valor\", a, \"es mayor que\", b)\n",
    "elif a == b:\n",
    "    print(\"El valor\", a, \"es igual que\", b)\n",
    "    \n",
    "#El programa anterior solo considera cuando a es mayorque b o cuando a tiene valor idéntico que b. Combinando else con elif\n",
    "#podemos añadir el último caso: cuando a es menor que b."
   ]
  },
  {
   "cell_type": "code",
   "execution_count": 34,
   "metadata": {},
   "outputs": [
    {
     "name": "stdout",
     "output_type": "stream",
     "text": [
      "El valor 2 es menor que 3\n"
     ]
    }
   ],
   "source": [
    "#El programa anterior solo considera cuando a es mayor que b o cuando a tiene valor idéntico que b. Combinando else con elif\n",
    "#podemos añadir el último caso: cuando a es menor que b.\n",
    "\n",
    "a = input(\"Escribe el valor de a: \")\n",
    "b = input(\"Escribe el valor de b: \")\n",
    "\n",
    "if a > b:\n",
    "    print(\"El valor\", a, \"es mayor que\", b)\n",
    "elif a == b:\n",
    "    print(\"El valor\", a, \"es igual que\", b)\n",
    "else:\n",
    "    print(\"El valor\", a, \"es menor que\", b)"
   ]
  },
  {
   "cell_type": "markdown",
   "metadata": {},
   "source": [
    "# Anidamientos\n",
    "\n",
    "La lógica anidada permite generar condiciones lógicas más complejas de lo que permiten las sentencia if, elif y else por sí solas.\n",
    "Imagina que te encuentras trabajando en un aeropuerto y tienes que verificar que todos los pasajeros de un vuelo ya han tramitado su pase\n",
    "de abordar. Para verificar que un pasajero específico ya tramitó su pase, puedes escribir una sentencia como esta:\n",
    "\n",
    "si \"x: pasajero tiene un pase tramitado\" entonces\n",
    "\n",
    "    ->\"y: modifica su estado a PASAJERO ABORDÓ VUELO\"\n",
    "\n",
    "Sin embargo, puede que en el lugar en el que estés trabajando te pida que, cuando un pasajero ya tenga su pase tramitado, verifiques nuevamente otra condición como la siguiente:\n",
    "\n",
    "si \"x: pasajero tiene un pase tramitado\" entonces\n",
    "\n",
    "    ->\"modifica su estado a PASAJERO ABORDÓ VUELO\"\n",
    "\n",
    "    si \"z: pasajero sufre una condición médica\"\n",
    "    \n",
    "        ->\"añade a su registro una indicación para la tripulación en caso de una emergencia\".\n",
    "\n",
    "En este caso, verificas que un pasajero tenga su pase de vuelo debidamente tramitado, y si es correcto, indicas que el pasajero ha abordado su vuelo. Además, si el\n",
    "pasajero sufre alguna afección de tipo cardiaca o respiratoria (por ejemplo), se indique a la tripulación del vuelo que tomen las medidas preventivas necesarias para \n",
    "atender al paciente en caso de una emergencia. \n",
    "\n",
    "Los anidamientos son extremadamente útiles para esta clase de situaciones reales, sin embargo, las buenas prácticas de programación indican que no hay que abusar de \n",
    "su uso de forma indiscriminada, ya que pueden impactar al rendimiento de un programa (especialmente cuando se tratan de sistemas altamentente complejos como Bases\n",
    "de Datos productivas como las que encuentras en aerolíneas, centros comerciales, páginas web, etc).\n"
   ]
  },
  {
   "cell_type": "code",
   "execution_count": 31,
   "metadata": {},
   "outputs": [
    {
     "name": "stdout",
     "output_type": "stream",
     "text": [
      "3 es mayor que 2 y, a su vez, 2 es mayor que 1\n"
     ]
    }
   ],
   "source": [
    "#Este programa emplea anidamentos para realizar comparaciones entre 3 valores. Si a es mayor que b, procederá a realizar otra verificación,\n",
    "#revisando si b es mayor que c o no, imprimiendo el mensaje correspondiente a cada caso.\n",
    "\n",
    "a = input(\"Escribe el valor de a: \")\n",
    "b = input(\"Escribe el valor de b: \")\n",
    "c = input(\"Escribe el valor de c: \")\n",
    "\n",
    "if a > b:\n",
    "    if b > c:\n",
    "        print(a, \"es mayor que\", b, \"y, a su vez,\", b, \"es mayor que\", c)\n",
    "    else:\n",
    "        print(a, \"es mayor que\", b, \", pero\", b, \"es menor que\", c)\n",
    "        \n",
    "elif a == b:\n",
    "    print (a, \"es igual que\", b)\n",
    "else:\n",
    "    print (a, \"es menor que\", b)\n"
   ]
  },
  {
   "cell_type": "markdown",
   "metadata": {},
   "source": [
    "# Operadores lógicos\n",
    "\n",
    "La lógica proposicional clásica tiene una serie de conectores lógicos denominados como \"disyunción\" y \"conjunción\". Analicemos la primera:\n",
    "\n",
    "Una disyunción lógica (representada con el símbolo ∨) es una sentencia lógica en la que, involucradas 2 proposiciones \"A\" y \"B\" con un valor de verdad individual (sea TRUE o FALSE), la sentencia final toma un valor TRUE en todos los casos a excepción de cuando A y B son falsas por sí mismas.\n",
    "\n",
    "Para comprender esto, veamos en lenguaje convencional una sentencia de este estilo:\n",
    "\n",
    "Sea \"x: el día está despejado, \"y: el día está nublado\", la disyunción de estas sentencias sería la siguiente:\n",
    "\n",
    "\"X ∨ Y: el día está despejado o el día está nublado\"\n",
    "\n",
    "Entonces, con lo anterior podemos asignar un valor de verdad individual a las sentencias que forman parte de la disyunción, \n",
    "y tendremos en total 4 posibles combinaciones\n",
    "disponibles (1. \"x: true, y: true\", 2. \"x: true, y: false\", 3. \"x: false, y: true\", 4. \"x:false, y: false\").\n",
    "\n",
    "Con lo anterior, podemos generar una \"tabla de verdad\" que nos diga cual es el valor de verdad de toda la sentencia dados valores de verdad para cada miembro de la sentencia completa.\n",
    "Veamos esto por partes:\n",
    "\n",
    "1. \"X ∨ Y: el día está despejado o el día está nublado\" Tiene sentido, ¿no? Puede ser que esté a punto de llover o tengamos un día soleado. TRUE\n",
    "\n",
    "Introduzcamos la negación ¬, otro operador lógico que revierte el valor de verdad de una sentencia (es decir, si x: true, entonces  ¬x: false):\n",
    "\n",
    "2. \"X ∨ ¬Y: el día está despejado o el día no está nublado\" Nuevamente puede que estemos en un lindo día, y si no está nublado, tenemos un día agradable. TRUE\n",
    "\n",
    "3. \"¬X ∨ Y: el día no está despejado o el día está nublado\" En este caso, el día puede estar presentando signos de una fuerte lluvia, o bien, el día está directamente nublado. TRUE\n",
    "\n",
    "4. \"¬X ∨ ¬Y: el día no está despejado o el día no está nublado\" ¿Un día puede no estar despejado o tampoco nublado? ¿Entonces qué estado tiene? FALSE\n",
    "\n",
    "A partir de esto, observamos que, en una disyunción, la sentencia tiene un valor TRUE en todos los casos a excepción de cuando ambas sentencias son FALSE por sí mismas. \n",
    "\n",
    "Sea 1: TRUE y 0: FALSE, la tabla de verdad de la disyunción sería la siguiente\n",
    "\n",
    "(X) - (Y) - (X ∨ Y)\n",
    "\n",
    " 1  -  1  -    1\n",
    "\n",
    " 1  -  0  -    1\n",
    "\n",
    " 0  -  1  -    1\n",
    "\n",
    " 0  -  0  -    0\n",
    "\n",
    "Una conjunción lógica (representada con el símbolo ^) es una sentencia lógica en la que, involucradas 2 proposiciones \"A\" y \"B\" con un valor de verdad individual (sea TRUE o FALSE), la sentencia final toma un valor TRUE únicamente cuando A y B son verdaderas, y su valor es FALSE para cualquier otro caso.\n",
    "\n",
    "Propongamos otra situación similar al ejemplo anterior. Sea \"x: el día es soleado\", \"y: está despejado\", su conjunción sería:\n",
    "\n",
    "\"X ^ Y: el día es soleado y está despejado\"\n",
    "\n",
    "Si asignamos valores de verdad a cada sentencia hasta formar 4 posibles combinaciones, tenemos lo siguiente:\n",
    "\n",
    "1. \"X ^ Y: el día es soleado y está despejado\" Un día soleado y despejado, justo lo que queremos. TRUE\n",
    "\n",
    "2. \"¬X ^ Y: el día es soleado y no está despejado\" ¿Un día soleado pero que no está despejado? FALSE\n",
    "\n",
    "3. \"X ^ ¬Y: el día no es soleado y está despejado\" ¿Un día no soleado (con lluvia, nieve, tormenta) y despejado existe? FALSE\n",
    "\n",
    "4. \"¬X ^ ¬Y: el día no es soleado y no está despejado\" Entonces no tenemos días soleados ni despejados, todo fue una mentira :( FALSE\n",
    "\n",
    "Finalmente, observamos que el valor de la conjunción solo será TRUE cuando ambas proposiciones tengan valores TRUE de forma individual.\n",
    "\n",
    "Sea 1: TRUE y 0: FALSE, la tabla de verdad de la conjunción sería la siguiente\n",
    "\n",
    "(X)  (Y)  (X ^ Y)\n",
    "\n",
    " 1 -  1  -   1\n",
    "\n",
    " 1 -  0  -   0\n",
    "\n",
    " 0 -  1  -   0\n",
    "\n",
    " 0 -  0  -   0\n"
   ]
  },
  {
   "cell_type": "markdown",
   "metadata": {},
   "source": [
    "# Compuertas lógicas AND y OR\n",
    "\n",
    "También llamadas operadores lógicos, representan la aplicación de los conectores lógicos anteriores en el álgebra booleana y, por extensión, a los sistemas informáticos\n",
    "que empleamos en la actualidad. El operador AND representa una conjunción, mientras que el operador OR representa una disyunción.\n",
    "\n",
    "¿Cuando los ocupamos? Veamos 2 ejemplos:\n",
    "\n",
    "1. En una sentencia, queremos que dos condiciones se cumplan simultáneamente para ejecutar un bloque de código en una sentencia condicional:\n",
    "\n",
    "si \"x AND y: true\" entonces\n",
    "\n",
    "    -> \"ejecutar: z\"\n",
    "\n",
    "2. En una sentencia, queremos que, al menos, una de las condiciones (pueden ser ambas, o al menos una de ellas) se cumpla para ejecutar un bloque de código \n",
    "en una sentencia condicional:\n",
    "\n",
    "si \"x OR y: true\" entonces\n",
    "\n",
    "    -> \"ejecutar: z\"\n",
    "\n"
   ]
  },
  {
   "cell_type": "code",
   "execution_count": 40,
   "metadata": {},
   "outputs": [
    {
     "name": "stdout",
     "output_type": "stream",
     "text": [
      "La suma de 34 y 23 es: 57\n",
      "La multiplicación de 12 y 2 es: 24\n"
     ]
    }
   ],
   "source": [
    "# Programa en el que, si a==34 y b==34, entonces imprime su suma.\n",
    "\n",
    "a = 34\n",
    "b = 23\n",
    "\n",
    "#Si las variables a y b tienen los valores indicados por la sentencia lógica del if, imprime su suma.\n",
    "if a == 34 and b == 23:\n",
    "    print (\"La suma de\", a, \"y\",b, \"es:\", a + b)\n",
    "    \n",
    "    \n",
    "x = 12\n",
    "y = 2\n",
    "\n",
    "#Si la variable x tiene el valor de 12 o y tiene el valor de 23 (o incluso ambas tienen el valor indicado en la sentencia lógica), imprime su multiplicación. \n",
    "if x == 12 or y == 23:\n",
    "    print (\"La multiplicación de\", x, \"y\",y, \"es:\", x * y)\n",
    "    "
   ]
  },
  {
   "cell_type": "code",
   "execution_count": 93,
   "metadata": {},
   "outputs": [
    {
     "name": "stdout",
     "output_type": "stream",
     "text": [
      "¡Falso!\n"
     ]
    }
   ],
   "source": [
    "#Calculadora simple de valores de verdad en 2 variables para una conjunción AND. Introduce solo 1 o 0 (TRUE o FALSE):\n",
    "\n",
    "x = input(\"Introduce el valor de x:\")\n",
    "y = input(\"Introduce el valor de y:\")\n",
    "\n",
    "if int(x) == 1 and int(y) == 1:\n",
    "    print(\"¡Verdadero!\")\n",
    "elif int(x) == 1 and int(y) == 0:\n",
    "    print(\"¡Falso!\")\n",
    "elif int(x) == 0 and int(y) == 1:\n",
    "    print(\"¡Falso!\")\n",
    "elif int(x) == 0 and int(y) == 0:\n",
    "    print(\"¡Falso!\")\n",
    "else:\n",
    "    print (\"¡Introduce solo 1 o 0!\")\n",
    "    "
   ]
  },
  {
   "cell_type": "code",
   "execution_count": 89,
   "metadata": {},
   "outputs": [
    {
     "name": "stdout",
     "output_type": "stream",
     "text": [
      "Ningún valor introducido es el 1 :(\n"
     ]
    }
   ],
   "source": [
    "#Programa que usa un OR para revisar si x o y tienen el valor 1 asignado.\n",
    "\n",
    "x = input(\"Introduce el valor de x:\")\n",
    "y = input(\"Introduce el valor de y:\")\n",
    "\n",
    "if int(x) == 1 or int(y) == 1:\n",
    "    print(\"Uno de los valores introducidos es 1\")\n",
    "else:\n",
    "    print(\"Ningún valor introducido es el 1 :(\")\n"
   ]
  }
 ],
 "metadata": {
  "interpreter": {
   "hash": "f93175da69b3f10f997f04267fd1a84e4114b0d67bf68a284cfc44f2ff9048ab"
  },
  "kernelspec": {
   "display_name": "Python 3.10.2 64-bit (windows store)",
   "language": "python",
   "name": "python3"
  },
  "language_info": {
   "codemirror_mode": {
    "name": "ipython",
    "version": 3
   },
   "file_extension": ".py",
   "mimetype": "text/x-python",
   "name": "python",
   "nbconvert_exporter": "python",
   "pygments_lexer": "ipython3",
   "version": "3.10.2"
  },
  "orig_nbformat": 4
 },
 "nbformat": 4,
 "nbformat_minor": 2
}
