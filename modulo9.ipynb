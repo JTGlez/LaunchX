{
 "cells": [
  {
   "cell_type": "markdown",
   "metadata": {},
   "source": [
    "# Funciones\n",
    "\n",
    "Una función es un segmento de código que, a una o más entradas, devuelve un resultado. Puede darse el caso de que una de esas entradas sea obligatoria u opcional para la operación de la función. Son útiles para promover la legibilidad y el mantenimiento de un código así como la reutilización de código para múltiples casos donde se requiera sin tener que escribir todo un bloque de código de forma repetitiva."
   ]
  },
  {
   "cell_type": "code",
   "execution_count": 5,
   "metadata": {},
   "outputs": [
    {
     "name": "stdout",
     "output_type": "stream",
     "text": [
      "payload, propellant, structure\n",
      "Retorno de la función: payload, propellant, structure\n"
     ]
    }
   ],
   "source": [
    "# Función creada sin argumentos. Al invocarla solo imprimirá la cadena en su definición:\n",
    "def rocket_parts():\n",
    "    print('payload, propellant, structure')\n",
    "    \n",
    "#Invocación a la función\n",
    "rocket_parts()\n",
    "\n",
    "# Por defecto, la función no está devolviendo ningún dato. Se puede establecer que devuelva la cadena impresa en su lugar:\n",
    "def rocket_parts():\n",
    "    return 'payload, propellant, structure'\n",
    "\n",
    "salida = rocket_parts()\n",
    "print('Retorno de la función:', salida)"
   ]
  },
  {
   "cell_type": "markdown",
   "metadata": {},
   "source": [
    "# Argumentos oopcionales y requeridos\n",
    "\n",
    "En Python, varias funciones integradas requieren argumentos. Algunas funciones integradas hacen que los argumentos sean opcionales. Las funciones integradas están disponibles de inmediato, por lo que no es necesario importarlas explícitamente.\n",
    "\n",
    "Un ejemplo de una función integrada que requiere un argumento es any(). Esta función toma un objeto iterable (por ejemplo, una lista) y devuelve True si algún elemento del objeto iterable es True. De lo contrario, devuelve False.\n",
    "\n",
    "    >> any([True, False, False])\n",
    "    True\n",
    "    >> any([False, False, False])\n",
    "    False\n",
    "Si llamamos a any() sin ningún argumento, se genera una excepción útil. El mensaje de error explica que necesita al menos un argumento:\n",
    "\n",
    "    >> any()\n",
    "    Traceback (most recent call last):\n",
    "    File '<stdin>', line 1, in <module>\n",
    "    TypeError: any() takes exactly one argument (0 given)\n",
    "    \n",
    "Puedes comprobar que algunas funciones permiten el uso de argumentos opcionales mediante otra función integrada denominada str(). Esta función crea una cadena a partir de un argumento. Si no se pasa ningún argumento, devuelve una cadena vacía:\n",
    "\n",
    "    >> str()\n",
    "    ''\n",
    "    >>> str(15)\n",
    "    '15'"
   ]
  },
  {
   "cell_type": "markdown",
   "metadata": {},
   "source": [
    "# Uso de argumentos en una función"
   ]
  },
  {
   "cell_type": "code",
   "execution_count": 9,
   "metadata": {},
   "outputs": [
    {
     "name": "stdout",
     "output_type": "stream",
     "text": [
      "238,855\n",
      "Unable to compute to that destination\n"
     ]
    },
    {
     "ename": "TypeError",
     "evalue": "distance_from_earth() missing 1 required positional argument: 'destination'",
     "output_type": "error",
     "traceback": [
      "\u001b[1;31m---------------------------------------------------------------------------\u001b[0m",
      "\u001b[1;31mTypeError\u001b[0m                                 Traceback (most recent call last)",
      "\u001b[1;32mc:\\Users\\Jorge\\Documents\\LaunchX\\modulo9.ipynb Cell 5'\u001b[0m in \u001b[0;36m<module>\u001b[1;34m\u001b[0m\n\u001b[0;32m     <a href='vscode-notebook-cell:/c%3A/Users/Jorge/Documents/LaunchX/modulo9.ipynb#ch0000006?line=12'>13</a>\u001b[0m \u001b[39mprint\u001b[39m(output2)\n\u001b[0;32m     <a href='vscode-notebook-cell:/c%3A/Users/Jorge/Documents/LaunchX/modulo9.ipynb#ch0000006?line=14'>15</a>\u001b[0m \u001b[39m# Una llamada sin argumentos producirá una excepción:\u001b[39;00m\n\u001b[1;32m---> <a href='vscode-notebook-cell:/c%3A/Users/Jorge/Documents/LaunchX/modulo9.ipynb#ch0000006?line=15'>16</a>\u001b[0m distance_from_earth()\n",
      "\u001b[1;31mTypeError\u001b[0m: distance_from_earth() missing 1 required positional argument: 'destination'"
     ]
    }
   ],
   "source": [
    "# Exigencia de un argumento: la siguiente función requiere que se tenga una entrada específica para que pueda funcionar:\n",
    "\n",
    "def distance_from_earth(destination):\n",
    "    if destination == 'Moon':\n",
    "        return '238,855'\n",
    "    else:\n",
    "        return 'Unable to compute to that destination'\n",
    "    \n",
    "output = distance_from_earth('Moon')\n",
    "print(output)\n",
    "\n",
    "output2 = distance_from_earth('Saturn')\n",
    "print(output2)\n",
    "\n",
    "# Una llamada sin argumentos producirá una excepción:\n",
    "distance_from_earth()\n",
    "\n"
   ]
  },
  {
   "cell_type": "code",
   "execution_count": 10,
   "metadata": {},
   "outputs": [
    {
     "data": {
      "text/plain": [
       "132.69722222222222"
      ]
     },
     "execution_count": 10,
     "metadata": {},
     "output_type": "execute_result"
    }
   ],
   "source": [
    "# Función con varios argumentos que calcula los días que se tardará en llegar a un destino, dadas la distancia y una rapidez constante:\n",
    "def days_to_complete(distance, speed):\n",
    "    hours = distance/speed\n",
    "    return hours/24\n",
    "\n",
    "# Con la función, se usa la distancia entre la Tierra y la Luna para calcular en cuántos días se llegaría a una velocidad de 75[km/h]\n",
    "days_to_complete(238855, 75)"
   ]
  },
  {
   "cell_type": "code",
   "execution_count": 12,
   "metadata": {},
   "outputs": [
    {
     "name": "stdout",
     "output_type": "stream",
     "text": [
      "133\n",
      "133\n"
     ]
    }
   ],
   "source": [
    "# Función como argumento: asignando el resultado de llamar a days_to_complete, almacenar el valor obtenido, redondearlo y después hacer lo mismo pero\n",
    "# enviando como argumento days_to_complete directamente. El resultado es el mismo.\n",
    "def days_to_complete(distance, speed):\n",
    "    hours = distance/speed\n",
    "    return hours/24\n",
    "\n",
    "total_days = days_to_complete(238855, 75)\n",
    "print(round(total_days))\n",
    "\n",
    "print(round(days_to_complete(238855, 75)))\n"
   ]
  },
  {
   "cell_type": "markdown",
   "metadata": {},
   "source": [
    "# Uso de argumento de palabra clave en Python\n",
    "\n",
    "Se refiere al valor predeterminado que toman los argumentos opcionales de una función."
   ]
  },
  {
   "cell_type": "code",
   "execution_count": 19,
   "metadata": {},
   "outputs": [
    {
     "data": {
      "text/plain": [
       "'Arrival: Wednesday 12:30'"
      ]
     },
     "execution_count": 19,
     "metadata": {},
     "output_type": "execute_result"
    }
   ],
   "source": [
    "# Función con argumento opcional que tiene un valor por default. Devuelve la hora estimada de llegada de la Apolo 11 \n",
    "\n",
    "from datetime import timedelta, datetime\n",
    "\n",
    "def arrival_time(hours=51):\n",
    "    now = datetime.now() # Obtiene la hora actual\n",
    "    arrival = now + timedelta(hours=hours) #Suma la hora actual y la hora por defecto de 'hours'\n",
    "    return arrival.strftime('Arrival: %A %H:%M') #Devuelve la hora estimada formateada\n",
    "\n",
    "#Cambiando el valor por default se comprueba la fecha y hora actual\n",
    "arrival_time(hours=0)\n",
    "\n",
    "arrival_time()"
   ]
  },
  {
   "cell_type": "markdown",
   "metadata": {},
   "source": [
    "# Combinación de argumentos y argumentos de palabra clave\n",
    "\n",
    "En Python, esta combinación sigue un orden específico. Los argumentos siempre se declaran primero, seguidos de argumentos de palabra clave."
   ]
  },
  {
   "cell_type": "code",
   "execution_count": 24,
   "metadata": {},
   "outputs": [
    {
     "data": {
      "text/plain": [
       "' Orbit Arrival: Monday 09:42'"
      ]
     },
     "execution_count": 24,
     "metadata": {},
     "output_type": "execute_result"
    }
   ],
   "source": [
    "# Actualizando la función arrival_time() para que tome un argumento necesario, que es el nombre del destino:\n",
    "from datetime import timedelta, datetime\n",
    "\n",
    "def arrival_time(destination, hours=51):\n",
    "    now = datetime.now() # Obtiene la hora actual\n",
    "    arrival = now + timedelta(hours=hours) #Suma la hora actual y la hora por defecto de 'hours'\n",
    "    return arrival.strftime(f' {destination} Arrival: %A %H:%M') #Devuelve la hora estimada formateada\n",
    "\n",
    "#Llamar a la función sin argumentos ya no funciona\n",
    "#arrival_time()\n",
    "\n",
    "#Llamando con el argumento obligatorio\n",
    "arrival_time('Moon')\n",
    "\n",
    "#Llamando a la función definiendo ambos valores\n",
    "arrival_time('Orbit', hours=0.13)"
   ]
  },
  {
   "cell_type": "markdown",
   "metadata": {},
   "source": [
    "# Uso de argumento de variable en Python\n",
    "\n",
    "Puedes usar cualquier número de argumentos de palabra clave y argumentos sin necesidad de declarar cada uno de ellos. Esta capacidad es útil cuando una función puede obtener un número desconocido de entradas."
   ]
  },
  {
   "cell_type": "markdown",
   "metadata": {},
   "source": [
    "# Argumentos de variable\n",
    "\n",
    "Los argumentos en las funciones son necesarios. Pero cuando se usan argumentos de variable, la función permite pasar cualquier número de argumentos (incluido 0). La sintaxis para usar argumentos de variable es agregar un asterisco único como prefijo (*) antes del nombre del argumento.\n"
   ]
  },
  {
   "cell_type": "code",
   "execution_count": 29,
   "metadata": {},
   "outputs": [
    {
     "name": "stdout",
     "output_type": "stream",
     "text": [
      "(1, 2)\n"
     ]
    }
   ],
   "source": [
    "# *args define a los argumentos de variable. \n",
    "def variable_length(*args):\n",
    "    print(args)\n",
    "    \n",
    "#Llamada a la función. Imprime las entradas que se enviaron. La variable args contiene todos los argumentos como una tupla.\n",
    "variable_length(1,2)"
   ]
  },
  {
   "cell_type": "code",
   "execution_count": 35,
   "metadata": {},
   "outputs": [
    {
     "data": {
      "text/plain": [
       "'Total time to launch is 1.1 hours'"
      ]
     },
     "execution_count": 35,
     "metadata": {},
     "output_type": "execute_result"
    }
   ],
   "source": [
    "# Función de longitud variable que calcula cuántos minutos quedan hasta el inicio, dado el tiempo que va a tardar cada paso del lanzamiento de un cohete:\n",
    "\n",
    "def sequence_time(*args):\n",
    "    total_minutes = sum(args) #Suma los valores de los argumentos. Se le envía minutos a la función. Si suman menos de 1 hora, imprime en minutos, sino, en horas.\n",
    "    if total_minutes < 60:\n",
    "        return f'Total time to launch is {total_minutes} minutes'\n",
    "    else:\n",
    "        return f'Total time to launch is {total_minutes/60} hours'\n",
    "    \n",
    "sequence_time(4, 14, 18)\n",
    "sequence_time(4, 14, 48)\n"
   ]
  },
  {
   "cell_type": "markdown",
   "metadata": {},
   "source": [
    "# Argumentos de palabra clave variable\n",
    "\n",
    "Para que una función acepte cualquier número de argumentos de palabra clave, debe usar una sintaxis similar. En este caso, se requiere un asterisco doble:"
   ]
  },
  {
   "cell_type": "code",
   "execution_count": 39,
   "metadata": {},
   "outputs": [
    {
     "name": "stdout",
     "output_type": "stream",
     "text": [
      "{'tanks': 1, 'day': 'Wednesday', 'pilots': 3}\n",
      "3 astronauts assigned for this mission:\n",
      "captain: Neil Armstrong\n",
      "pilot: Buzz Aldrin\n",
      "command_pilot: Michael Collins\n"
     ]
    }
   ],
   "source": [
    "def variable_length(**kwargs):\n",
    "    print(kwargs)\n",
    "    \n",
    "# Al usar argumentos de palabra clave (es decir, opcionales con valor default) con **, los valores que se envíen a la función se van a almacenar en un diccionario.\n",
    "variable_length(tanks=1, day='Wednesday', pilots=3)\n",
    "\n",
    "# Define una función de argumentos de palabra clave variables que imprime los astronautas asignados a una misión, su rol y nombre:\n",
    "def crew_members(**kwargs):\n",
    "    print(f'{len(kwargs)} astronauts assigned for this mission:')\n",
    "    for title, name in kwargs.items(): #Imprime clave y valor.\n",
    "        print(f'{title}: {name}')\n",
    "        \n",
    "crew_members(captain='Neil Armstrong', pilot='Buzz Aldrin', command_pilot='Michael Collins') #Ojo, palabras repetidas producirán una excepción.\n"
   ]
  }
 ],
 "metadata": {
  "interpreter": {
   "hash": "f93175da69b3f10f997f04267fd1a84e4114b0d67bf68a284cfc44f2ff9048ab"
  },
  "kernelspec": {
   "display_name": "Python 3.10.2 64-bit (windows store)",
   "language": "python",
   "name": "python3"
  },
  "language_info": {
   "codemirror_mode": {
    "name": "ipython",
    "version": 3
   },
   "file_extension": ".py",
   "mimetype": "text/x-python",
   "name": "python",
   "nbconvert_exporter": "python",
   "pygments_lexer": "ipython3",
   "version": "3.10.2"
  },
  "orig_nbformat": 4
 },
 "nbformat": 4,
 "nbformat_minor": 2
}
