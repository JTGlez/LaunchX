{
 "cells": [
  {
   "cell_type": "markdown",
   "metadata": {},
   "source": [
    "# Un programa Python"
   ]
  },
  {
   "cell_type": "code",
   "execution_count": 20,
   "metadata": {},
   "outputs": [
    {
     "name": "stdout",
     "output_type": "stream",
     "text": [
      "3\n"
     ]
    }
   ],
   "source": [
    "#Programa que suma 2 números. Se puede ejecutar en consola con: python3 program.py\n",
    "suma = 1 + 2\n",
    "print(suma)"
   ]
  },
  {
   "cell_type": "markdown",
   "metadata": {},
   "source": [
    "# Función print()"
   ]
  },
  {
   "cell_type": "code",
   "execution_count": 21,
   "metadata": {},
   "outputs": [
    {
     "name": "stdout",
     "output_type": "stream",
     "text": [
      "¡Hola mundo!\n"
     ]
    }
   ],
   "source": [
    "#La función print() es principal de Python. A continuación el programa elemental de cualquier lenguaje:\n",
    "print(\"¡Hola mundo!\")"
   ]
  },
  {
   "cell_type": "markdown",
   "metadata": {},
   "source": [
    "# Variables"
   ]
  },
  {
   "cell_type": "code",
   "execution_count": 22,
   "metadata": {},
   "outputs": [
    {
     "name": "stdout",
     "output_type": "stream",
     "text": [
      "6\n"
     ]
    }
   ],
   "source": [
    "#En este ejemplo la variable sum almacena la suma de 1+2, y luego, se crea otra variable llamada\n",
    "#product que se inicializa con el valor actual de sum (que es 1+2=3), y el resultado se multiplica por 2.\n",
    "suma = 1 + 2\n",
    "producto = suma * 2\n",
    "print (producto)"
   ]
  },
  {
   "cell_type": "markdown",
   "metadata": {},
   "source": [
    "# Tipos de datos"
   ]
  },
  {
   "cell_type": "code",
   "execution_count": 23,
   "metadata": {},
   "outputs": [
    {
     "name": "stdout",
     "output_type": "stream",
     "text": [
      "¿De qué tipo es la variable puede_despegar?\n"
     ]
    },
    {
     "data": {
      "text/plain": [
       "bool"
      ]
     },
     "execution_count": 23,
     "metadata": {},
     "output_type": "execute_result"
    }
   ],
   "source": [
    "#Al crear variables con Python estas se inicializan con un tipo implícito en lugar de declararlo explícitamente.\n",
    "#A continuación se tienen distintos tipo de variables:\n",
    "\n",
    "# Variable int. Plutón era considerado un planeta pero ya es muy pequeño...\n",
    "planetas_en_el_sistema_solar = 8 \n",
    "\n",
    "# Variable float. Distancia en años luz.\n",
    "distancia_a_alfa_centauri = 4.367\n",
    "\n",
    "#Variable booleana. Permiso concedido, Houston fuera.\n",
    "puede_despegar = True\n",
    "\n",
    "#Variable string. No, no fue un montaje.\n",
    "transbordador_que_aterrizo_en_la_luna = \"Apollo 11\" \n",
    "\n",
    "\n",
    "#¿Cómo verificar que efectivamente una variable tiene un tipo de dato? Usa la función type() y obten la respuesta:\n",
    "print(\"¿De qué tipo es la variable puede_despegar?\")\n",
    "type(puede_despegar)\n",
    "\n"
   ]
  },
  {
   "cell_type": "markdown",
   "metadata": {},
   "source": [
    "# Operadores aritméticos y de asignación"
   ]
  },
  {
   "cell_type": "code",
   "execution_count": 24,
   "metadata": {},
   "outputs": [
    {
     "data": {
      "text/plain": [
       "2.0"
      ]
     },
     "execution_count": 24,
     "metadata": {},
     "output_type": "execute_result"
    }
   ],
   "source": [
    "#Los operadores permiten realizar cálculos con variables de la forma: <lado izq> <operador> <lado der>\n",
    "\n",
    "left_side = 10\n",
    "right_side = 5\n",
    "\n",
    "left_side / right_side \n",
    "\n",
    "#Los operadores aritméticos básicos disponibles son: +, -, /, *\n",
    "\n",
    "#1 + 1\n",
    "#1 - 2\n",
    "#10 / 2\n",
    "#2 * 2\n",
    "\n",
    "#Los operadores de asignación permiten asignar valores a una variable a lo largo de su ciclo de vida:\n",
    "\n",
    "#x = 2; asigna a x el valor de 2.\n",
    "#x += 2 incrementa en 2 el valor actual de x.\n",
    "#x -= 2 decrementa en 2 el valor actual de x.\n",
    "#x /= 2 divide sobre 2 el valor actual de x.\n",
    "#x *= 2 multiplica por 2 el valor actual de x.\n"
   ]
  },
  {
   "cell_type": "markdown",
   "metadata": {},
   "source": [
    "# Fechas"
   ]
  },
  {
   "cell_type": "code",
   "execution_count": 25,
   "metadata": {},
   "outputs": [
    {
     "name": "stdout",
     "output_type": "stream",
     "text": [
      "La fecha de hoy es: 2022-02-04\n"
     ]
    }
   ],
   "source": [
    "#Las fechas se emplean como: indicadores de copias de seguridad, como condición para activar un procedimiento lógico\n",
    "#o realizar métricas de rendimiento en un código.\n",
    "\n",
    "#Importa el módulo date de la biblioteca datetime y obtiene la fecha de hoy con el método today(), imprimiéndola.\n",
    "from datetime import date\n",
    "print(\"La fecha de hoy es:\", date.today())\n"
   ]
  },
  {
   "cell_type": "markdown",
   "metadata": {},
   "source": [
    "# Conversiones"
   ]
  },
  {
   "cell_type": "code",
   "execution_count": 26,
   "metadata": {},
   "outputs": [
    {
     "name": "stdout",
     "output_type": "stream",
     "text": [
      "La fecha de hoy es: 2022-02-04\n"
     ]
    }
   ],
   "source": [
    "#Combinar tipos de datos distintos es un error común. La siguiente sentencia es erronea:\n",
    "\n",
    "#Se intenta sumar una variable de tipo string con otra tipo date. No tiene sentido! \n",
    "#print(\"Today's date is: \" + date.today())\n",
    "\n",
    "#Para que tal operación se pueda realizar, se debe convertir la fecha en una cadena ya sea implícitamente o explícitamente.\n",
    "#En el markdown anterior se muestra un casting implícito, mientras que aquí se muestra una versión explícita para transformar\n",
    "#toda la salida en una cadena y que la operación tenga coherencia. Sumar cadenas es igual a unirlas.\n",
    "\n",
    "print(\"La fecha de hoy es: \" + str(date.today()))\n",
    "\n"
   ]
  },
  {
   "cell_type": "markdown",
   "metadata": {},
   "source": [
    "# Entrada del usuario"
   ]
  },
  {
   "cell_type": "code",
   "execution_count": 1,
   "metadata": {},
   "outputs": [
    {
     "name": "stdout",
     "output_type": "stream",
     "text": [
      "Bienvenido al programa de bienvenida\n",
      "Saludos: si\n"
     ]
    }
   ],
   "source": [
    "#Este programa recupera el nombre del usuario y lo imprime en pantalla.\n",
    "\n",
    "print(\"Bienvenido al programa de bienvenida\")\n",
    "name = input(\"Introduzca su nombre: \")\n",
    "print(\"Saludos: \" + name)"
   ]
  },
  {
   "cell_type": "markdown",
   "metadata": {},
   "source": [
    "# Trabajar con números"
   ]
  },
  {
   "cell_type": "code",
   "execution_count": 33,
   "metadata": {},
   "outputs": [
    {
     "name": "stdout",
     "output_type": "stream",
     "text": [
      "Calculadora incorrecta\n",
      "12\n",
      "Calculadora V2\n",
      "3\n"
     ]
    }
   ],
   "source": [
    "#La función almacenar un resultado como una cadena, pero no hace lo que debería...\n",
    "\n",
    "print(\"Calculadora incorrecta\")\n",
    "first_number = input(\"Primer número: \")\n",
    "second_number = input(\"Segundo número: \")\n",
    "print(first_number + second_number)\n",
    "\n",
    "#Esto pasa debido a que los valores se recuperan como cadenas, no valores enteros. Se soluciona por medio de un casting:\n",
    "\n",
    "print(\"Calculadora V2\")\n",
    "first_number = input(\"Primer número: \")\n",
    "second_number = input(\"Segundo número: \")\n",
    "print(int(first_number) + int(second_number))\n"
   ]
  },
  {
   "cell_type": "markdown",
   "metadata": {},
   "source": [
    "# Problema 2: Tienes una lista de tuplas, de la forma (nombre, calificación),\n",
    "donde el nombre corresponde al nombre de un alumno y calificación corresponde a su calificación. \n",
    "Encuentra la forma de ordenar dicha lista a través de la calificación de cada alumno, \n",
    "de tal forma que obtengas el alumno con la segunda calificación más alta. En dado caso de que la \n",
    "segunda calificación más alta exista para 2 o más alumnos, ordena a los alumnos con la segunda \n",
    "calificación más alta en orden alfabético a través de sus nombres y solo obten el primero que resulte \n",
    "de este ordenamiento.\n",
    "\n",
    "Entrada = [(\"pedro\",9),(\"paco\",10),(\"alex\",9),(\"yair\",10),(\"karina\",8),(\"mau\",7)]\n",
    "\n",
    "Salida = \"alex\""
   ]
  },
  {
   "cell_type": "code",
   "execution_count": 73,
   "metadata": {},
   "outputs": [
    {
     "name": "stdout",
     "output_type": "stream",
     "text": [
      "[('mau', 7), ('karina', 8), ('pedro', 9), ('alex', 9), ('paco', 10), ('yair', 10)]\n",
      "Calificación más alta: 10\n",
      "[('mau', 7), ('karina', 8), ('pedro', 9), ('alex', 9)]\n",
      "Segunda Calificación más alta: 9\n",
      "Tupla añadida ('pedro', 9)\n",
      "Tupla añadida ('alex', 9)\n",
      "[('pedro', 9), ('alex', 9)]\n",
      "El primer alumno con segunda mayor calificación es:  alex\n"
     ]
    }
   ],
   "source": [
    "#Programa que realiza los siguientes pasos:\n",
    "#1. Ordena por criterio de calificación de cada tupla. Extrae las tuplas con mayor calificación.\n",
    "#2. Obtiene el alumno (o alumnos) con la segunda mayor calificación. \n",
    "#3. Si hay dos o más coincidencias, extrae y almacena las tuplas con la segunda mayor calificación en una nueva lista.\n",
    "#4. Ordena la lista obtenida a partir del nombre en orden alfabético y obtén el primero. \n",
    "from operator import itemgetter\n",
    "\n",
    "#Ordena la lista de menor a mayor-\n",
    "lista = [(\"pedro\",9),(\"paco\",10),(\"alex\",9),(\"yair\",10),(\"karina\",8),(\"mau\",7)]\n",
    "lista.sort(key = lambda x: x[1])\n",
    "print(lista)\n",
    "\n",
    "#Obtiene la calificación más alta.\n",
    "max_calif = max(lista, key = itemgetter(1))[1]\n",
    "print('Calificación más alta:', max_calif)\n",
    "\n",
    "#Elimina las tuplas con la máxima calificación creando una nueva lista sin esos valores. \n",
    "lista_sin_maximo = [(x,y) for (x,y) in lista if y!=max(lista, key = itemgetter(1))[1]]\n",
    "print(lista_sin_maximo)\n",
    "\n",
    "#Obtiene la segunda calificación más alta.\n",
    "max_calif = max(lista_sin_maximo, key = itemgetter(1))[1]\n",
    "print('Segunda Calificación más alta:', max_calif)\n",
    "\n",
    "#Genera una lista para guardar tuplas con alumnos que tengan la segunda mayor calificación.\n",
    "lista_segundos = []\n",
    "\n",
    "#Ciclo for que recorre la lista y, si encuentra una tupla de alumno que contiene a la segunda mayor calificación, lo añade a una nueva lista. \n",
    "for i, tuple in enumerate(lista_sin_maximo):\n",
    "    if lista_sin_maximo[i][1] == max_calif:\n",
    "        print('Tupla añadida', lista_sin_maximo[i])\n",
    "        lista_segundos.append(lista_sin_maximo[i])\n",
    "\n",
    "print(lista_segundos)\n",
    "\n",
    "#Ordena nuevamente la lista de A a la Z y obtiene la primer tupla de la lista.\n",
    "lista_segundos.sort(key = lambda x: x[0])\n",
    "\n",
    "nombre_alumno = lista_segundos[0][0]\n",
    "\n",
    "print ('El primer alumno con segunda mayor calificación es: ', nombre_alumno)\n",
    "    \n",
    "\n",
    "    \n"
   ]
  }
 ],
 "metadata": {
  "interpreter": {
   "hash": "2be5faf79681da6f2a61fdfdd5405d65d042280f7fba6178067603e3a2925119"
  },
  "kernelspec": {
   "display_name": "Python 3.10.2 64-bit",
   "language": "python",
   "name": "python3"
  },
  "language_info": {
   "codemirror_mode": {
    "name": "ipython",
    "version": 3
   },
   "file_extension": ".py",
   "mimetype": "text/x-python",
   "name": "python",
   "nbconvert_exporter": "python",
   "pygments_lexer": "ipython3",
   "version": "3.10.2"
  },
  "orig_nbformat": 4
 },
 "nbformat": 4,
 "nbformat_minor": 2
}
