{
 "cells": [
  {
   "cell_type": "markdown",
   "metadata": {},
   "source": [
    "# Diccionarios de Python\n",
    "\n",
    "Los diccionarios funcionan bajo la estructura de pares clave-valor para almacenar datos relacionados entre sí. De forma simplificada, cada elemento de un diccionario es una cajita donde la clave es el nombre o etiqueta de la cajita, y el valor su contenido. \n",
    "\n",
    "Python los indica por medio de llaves y dos puntos:\n",
    "\n",
    "    >>planet = {\n",
    "        >>'name': 'Earth',\n",
    "        >>'moons': 1\n",
    "    >>}\n",
    "\n",
    "El diccionario planet creado contiene dos claves, llamadas 'name' y 'moons'. Se debe tener cuidado de emplear los tipos de datos correctos y seguir una nomenclatura clara en cuanto al nombrado de claves.\n",
    "\n",
    "+ Lectura de los valores de un diccionario: por medio de get() se puede acceder a un valor del diccionario por medio de su clave, o bien, indicando la clave del valor entre corchetes []. \n",
    "Si la clave no está disponible, get() devuelve 'None' y [] genera una excepción KeyError.\n",
    "\n",
    "    >>wibble = planet.get('wibble') # Regresa None\n",
    "    \n",
    "    >>wibble = planet['wibble']\n",
    "\n",
    "En el caso de un diccionario, accedemos a sus elementos mediante la 'clave'.\n"
   ]
  },
  {
   "cell_type": "markdown",
   "metadata": {},
   "source": [
    "# Modificación de valores de un diccionario\n",
    "\n",
    "El método update() acepta un diccionario como parámetro, y actualiza los valores existentes con los valores nuevos que sean propocionados. Por ejemplo, se puede cambiar el valor de la clave 'name' del diccionario planet:\n",
    "\n",
    "    >>planet.update({'name': 'Makemake'}) # name ahora tiene el valor 'Makemake'.\n",
    "\n",
    "Otra forma abreviada como en el caso de la lectura involucra corchetes []. La diferencia radica en la sintaxis empleada para modificar el valor:\n",
    "\n",
    "    >>planet['name'] = 'Makemake' # name ahora tiene el valor 'Makemake'.\n",
    "\n",
    "update() tiene la ventaja de poder modificar varios valores en una sola operación y realizar menos llamadas a sistema. Cuando solo se requiere modificar un valor individual, la notación de corchetes es preferida."
   ]
  },
  {
   "cell_type": "code",
   "execution_count": 2,
   "metadata": {},
   "outputs": [
    {
     "name": "stdout",
     "output_type": "stream",
     "text": [
      "{'name': 'Jupiter', 'moons': 79}\n"
     ]
    }
   ],
   "source": [
    "# Diccionario planet, modificando a la clave name con ambas notaciones.\n",
    "planet = {\n",
    "    'name': 'Makemake',\n",
    "    'moons': 1\n",
    "}\n",
    "\n",
    "# Usando update\n",
    "planet.update({\n",
    "    'name': 'Jupiter',\n",
    "    'moons': 79\n",
    "})\n",
    "\n",
    "# Usando corchetes\n",
    "planet['name'] = 'Jupiter'\n",
    "planet['moons'] = 79\n",
    "\n",
    "print(planet)"
   ]
  },
  {
   "cell_type": "markdown",
   "metadata": {},
   "source": [
    "# Adición y eliminación de claves\n",
    "\n",
    "Crear claves es similar a la actualización de una clave existente. Aunque esta no exista, al indicar un valor para una clave que no exista en el diccionario hará que se genera la clave en el mismo de forma automática. Para eliminar una clave, se emplea el método pop() indicando la clave que se desea eliminar del diccionario."
   ]
  },
  {
   "cell_type": "code",
   "execution_count": 3,
   "metadata": {},
   "outputs": [
    {
     "name": "stdout",
     "output_type": "stream",
     "text": [
      "Diccionario actualizado: {'name': 'Jupiter', 'moons': 79, 'orbital period': 4333}\n",
      "Diccionario actualizado: {'name': 'Jupiter', 'moons': 79}\n"
     ]
    }
   ],
   "source": [
    "# Se añaden nuevas claves al diccionario y se elimina posteriormente una de ellas.\n",
    "planet = {\n",
    "    'name': 'Jupiter',\n",
    "    'moons': 79\n",
    "}\n",
    "\n",
    "planet['orbital period'] = 4333\n",
    "print('Diccionario actualizado:', planet)\n",
    "\n",
    "planet.pop('orbital period')\n",
    "print('Diccionario actualizado:', planet)\n"
   ]
  },
  {
   "cell_type": "markdown",
   "metadata": {},
   "source": [
    "# Tipos de datos complejos\n",
    "\n",
    "Un diccionario puede almacenar cualquier valor; incluso otros diccionarios. En el siguiente ejemplo se crea un diccionario dentro de planet para almacenar diámetros de planetas."
   ]
  },
  {
   "cell_type": "code",
   "execution_count": 17,
   "metadata": {},
   "outputs": [
    {
     "name": "stdout",
     "output_type": "stream",
     "text": [
      "{'name': 'Jupiter', 'moons': 79, 'diámetro[Km]': {'polar': 133709, 'ecuatorial': 142984}}\n",
      "Jupiter diámetro polar: 133709\n"
     ]
    }
   ],
   "source": [
    "planet = {\n",
    "    'name': 'Jupiter',\n",
    "    'moons': 79\n",
    "}\n",
    "\n",
    "# Añadiendo al diccionario planeta la clave 'diámetro[Km]' que contiene como valor un diccionario con las claves 'polar' y 'ecuatorial':\n",
    "planet['diámetro[Km]'] = {\n",
    "    'polar': 133709,\n",
    "    'ecuatorial': 142984\n",
    "}\n",
    "\n",
    "# Se imprime el diccionario planet, observando el anidamiento realizado del diccionario en la clave 'diametro[Km]'\n",
    "print(planet)\n",
    "\n",
    "# Para recuperar valores específicos en un diccionario anidado, se pueden usar corchetes [] o llamar a get.\n",
    "print(planet['name'], 'diámetro polar:', planet['diámetro[Km]']['polar'])\n"
   ]
  },
  {
   "cell_type": "markdown",
   "metadata": {},
   "source": [
    "# Programación dinámica con diccionarios\n",
    "\n",
    "    +El método keys() devuelve un objeto de lista que contiene todas las claves de un diccionario. Útil para iterar por todos los elementos del diccionario."
   ]
  },
  {
   "cell_type": "code",
   "execution_count": 18,
   "metadata": {},
   "outputs": [
    {
     "name": "stdout",
     "output_type": "stream",
     "text": [
      "october: 3.5cm\n",
      "november: 4.2cm\n",
      "december: 2.1cm\n"
     ]
    }
   ],
   "source": [
    "# Iterando sobre un diccionario de precipitaciones mensuales:\n",
    "rainfall = {\n",
    "    'october': 3.5,\n",
    "    'november': 4.2,\n",
    "    'december': 2.1\n",
    "}\n",
    "\n",
    "for key in rainfall.keys():\n",
    "    print(f'{key}: {rainfall[key]}cm')"
   ]
  },
  {
   "cell_type": "markdown",
   "metadata": {},
   "source": [
    "# Existencia de una clave en un diccionario\n",
    "\n",
    "Al actualizar un valor en un diccionario, Python sobrescribirá el valor existente o creará uno en su defecto, si la clave no existe. Si quieres agregar un valor en lugar de sobrescribirlo, puedes comprobar si la clave existe mediante la sentencia in:"
   ]
  },
  {
   "cell_type": "code",
   "execution_count": 25,
   "metadata": {},
   "outputs": [
    {
     "name": "stdout",
     "output_type": "stream",
     "text": [
      "{'october': 3.5, 'november': 4.2, 'december': 3.1}\n"
     ]
    }
   ],
   "source": [
    "rainfall = {\n",
    "    'october': 3.5,\n",
    "    'november': 4.2,\n",
    "    'december': 2.1\n",
    "}\n",
    "\n",
    "# Buscando si el mes 'december' existe en el diccionario. Si existe, le suma un 1. Si no, crea la clave y valor en el diccionario.\n",
    "if 'december' in rainfall:\n",
    "    rainfall['december'] = rainfall['december'] + 1\n",
    "else:\n",
    "    rainfall['december'] = 1\n",
    "    \n",
    "print(rainfall)"
   ]
  },
  {
   "cell_type": "markdown",
   "metadata": {},
   "source": [
    "# Recuperar todos los valores de un diccionario:\n",
    "\n",
    "El método values() devuelve la lista de todos los valores de un diccionario sin sus claves:"
   ]
  },
  {
   "cell_type": "code",
   "execution_count": 27,
   "metadata": {},
   "outputs": [
    {
     "name": "stdout",
     "output_type": "stream",
     "text": [
      "Hubo un total de 10.8[cm] de precipitaciones en el último trimestre del año.\n"
     ]
    }
   ],
   "source": [
    "rainfall = {\n",
    "    'october': 3.5,\n",
    "    'november': 4.2,\n",
    "    'december': 3.1\n",
    "}\n",
    "\n",
    "# Obtener el valor de precipitaciones acumulado de todos los meses.\n",
    "\n",
    "total_rainfall = 0\n",
    "\n",
    "for values in rainfall.values():\n",
    "    total_rainfall = total_rainfall + values\n",
    "    \n",
    "print(f'Hubo un total de {total_rainfall}[cm] de precipitaciones en el último trimestre del año.')"
   ]
  }
 ],
 "metadata": {
  "interpreter": {
   "hash": "f93175da69b3f10f997f04267fd1a84e4114b0d67bf68a284cfc44f2ff9048ab"
  },
  "kernelspec": {
   "display_name": "Python 3.10.2 64-bit (windows store)",
   "language": "python",
   "name": "python3"
  },
  "language_info": {
   "codemirror_mode": {
    "name": "ipython",
    "version": 3
   },
   "file_extension": ".py",
   "mimetype": "text/x-python",
   "name": "python",
   "nbconvert_exporter": "python",
   "pygments_lexer": "ipython3",
   "version": "3.10.2"
  },
  "orig_nbformat": 4
 },
 "nbformat": 4,
 "nbformat_minor": 2
}
